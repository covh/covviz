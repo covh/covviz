{
 "cells": [
  {
   "cell_type": "markdown",
   "metadata": {},
   "source": [
    "# log plot attempts"
   ]
  },
  {
   "cell_type": "code",
   "execution_count": null,
   "metadata": {},
   "outputs": [],
   "source": [
    "import sys\n",
    "import numpy, matplotlib, pandas\n",
    "sys.path.append(\"..\") \n",
    "sys.path.append(\"../src\") \n",
    "import dataFiles, dataMangling, dataPlotting, districtDistances,dataTable\n",
    "ts, bnn, ts_sorted, Bundeslaender_sorted, dates, datacolumns = dataMangling.dataMangled()"
   ]
  },
  {
   "cell_type": "code",
   "execution_count": null,
   "metadata": {},
   "outputs": [],
   "source": [
    "dataPlotting.test_plot_Kreis(ts=ts, bnn=bnn, dates=dates, datacolumns=datacolumns)"
   ]
  },
  {
   "cell_type": "markdown",
   "metadata": {},
   "source": [
    "# this following new code could be dropped in place ...\n",
    "\n",
    "where the old \"plot_timeseries()\" is.\n",
    "\n",
    "Because the defaults (`logPlot=False, unsmoothedAlso=True`) will make it behave exactly like the old code.\n",
    "\n",
    "But switching to (`logPlot=True, unsmoothedAlso=False`) then shows the (7 days, 14 days) smoothed averages on a loglin plot."
   ]
  },
  {
   "cell_type": "code",
   "execution_count": null,
   "metadata": {},
   "outputs": [],
   "source": [
    "from matplotlib import pyplot as plt\n",
    "import os, datetime\n",
    "import pandas\n",
    "import matplotlib \n",
    "\n",
    "def plot_timeseries(datacolumns, dates, daily, cumulative, title, filename, \n",
    "                    ifShow=True, ifCleanup=True, population=None, limitIncidencePerWeekPerMillion=500,\n",
    "                    logPlot=False, unsmoothedAlso=True):\n",
    "\n",
    "    fig, ax = plt.subplots(figsize=(10, 6)) #, constrained_layout=True)\n",
    "    # plt.tight_layout()\n",
    "\n",
    "    # x axis\n",
    "    ax.xaxis_date()\n",
    "    ax.xaxis.set_minor_locator(matplotlib.dates.DayLocator())\n",
    "    fig.autofmt_xdate(rotation=60)\n",
    "    \n",
    "    if logPlot:\n",
    "        plotter=ax.semilogy\n",
    "        plt.ylim(0.1, max(daily[1:])*1.5)\n",
    "        markerY = 0.13\n",
    "    else:\n",
    "        plotter=ax.plot\n",
    "        plt.ylim(0, max(daily[1:])*1.5)\n",
    "        markerY = max(daily[1:])/19\n",
    "\n",
    "    # plot data\n",
    "    if unsmoothedAlso:\n",
    "        lns1 = plotter(dates, daily, label=\"daily cases (weekend-flawed), 2 weeks: red\", color='lightgray')\n",
    "        lns1_2 = plotter(dates[-14:], daily[-14:], label=\"daily cases, last 14 days dark gray\", color='red')\n",
    "        # print (len(dates[-14:]))\n",
    "    else:\n",
    "        lns1, lns1_2 = [],[]\n",
    "    \n",
    "    plt.ylabel(\"daily cases\", color=\"purple\")\n",
    "    \n",
    "    # plot averages\n",
    "    window=7\n",
    "    rolling_mean = pandas.DataFrame(daily).rolling(window=window, center=True).mean()\n",
    "    lns2 = plotter(dates, rolling_mean, label='daily: centered moving average %s days' % window, color='purple')\n",
    "    window=14\n",
    "    rolling_mean = pandas.DataFrame(daily).rolling(window=window, center=True).mean()\n",
    "    lns3 = plotter(dates, rolling_mean, label='daily: centered moving average %s days' % window, color='orange', linewidth=4)\n",
    "    # window=21\n",
    "    # rolling_mean = pandas.DataFrame(daily).rolling(window=window, center=True).mean()\n",
    "    # ax.plot(dates, rolling_mean, label='SMA %s days' % window, color='pink', linewidth=1)\n",
    "\n",
    "    # plot center bar\n",
    "    center, signal = dataMangling.temporal_center(daily)\n",
    "    # print (center)\n",
    "    center_date=datacolumns.values[int(round(center))]\n",
    "    # lns4 = ax.bar(dates, signal, label=\"'expectation day': \"+center_date, color='green')\n",
    "    \n",
    "    # lns4_2 = plt.plot(dates[int(round(center))], max(signal), marker=\"v\", color='green', markersize=15)\n",
    "    # lns4_2 = plt.plot(dates[int(round(center))], 0, marker=\"v\", color='green', markersize=15)\n",
    "    # lns4_2 = plt.plot(dates[int(round(center))], [max(daily[1:])/20], marker=\"^\", color='green', markersize=30)\n",
    "    lns4_2 = plt.plot(dates[int(round(center))], [markerY], marker=\"v\", color='green', markersize=17)\n",
    "\n",
    "\n",
    "    # plot 2nd axis and cumulative data\n",
    "    ax2 = plt.twinx()\n",
    "    plt.ylim(0, max(cumulative)*1.1)\n",
    "    \n",
    "    plt.ylabel(\"cumulative total cases\", color=\"#1E90FF\")\n",
    "\n",
    "    lns5 = ax2.plot(dates, cumulative, label=\"total cases reported at RiskLayer\", color = '#1E90FF')\n",
    "    \n",
    "    lns6 = []\n",
    "    if population:\n",
    "        limit = limitIncidencePerWeekPerMillion/7*population/1000000\n",
    "        # print (\"limit:\", limit)\n",
    "        lns6 = ax.plot([dates[1]]+[dates[-1]],[limit,limit], label=\"daily %.2f =limit 500/week/1mio pop.\" % limit, color = '#ef7c7c', linestyle=  (0, (5, 10)))\n",
    "\n",
    "    lines = lns5 + lns1 + lns2 + lns3 + lns6\n",
    "    labs = [l.get_label() for l in lines]\n",
    "\n",
    "    text = \"source data @RiskLayer up to \" + (\"%s\"%max(dates))[:10]\n",
    "    text += \"\\nplot @DrAndreasKruger \" + (\"%s\" % datetime.datetime.now())[:16]\n",
    "    text += \"\\ndaily: (GREEN) 'expectation day' = \"+center_date\n",
    "\n",
    "    plt.legend(lines, labs, loc='upper left', facecolor=\"#fafafa\", framealpha=0.8, \n",
    "               title=text, prop={'size': 8}, title_fontsize = 8)\n",
    "\n",
    "    plt.title(title)\n",
    "    \n",
    "    if filename:\n",
    "        fig.savefig(os.path.join(dataFiles.PICS_PATH, filename),  bbox_inches='tight')\n",
    "    \n",
    "    if ifShow:\n",
    "        plt.show()\n",
    "        \n",
    "    if ifCleanup:\n",
    "        plt.clf()\n",
    "        plt.close(\"all\")\n",
    "    \n",
    "    return plt, fig, ax, ax2\n",
    "\n",
    "def test_plot_Kreis(ts, bnn, dates, datacolumns, logPlot=False, unsmoothedAlso=True):\n",
    "    ## Kreis\n",
    "    AGS = \"0\"\n",
    "    #AGS = \"1001\"\n",
    "    AGS = \"5370\"\n",
    "    # AGS = \"9377\"\n",
    "    daily, cumulative, title, filename, pop = dataMangling.get_Kreis(ts, bnn, AGS)\n",
    "    plot_timeseries(datacolumns, dates, daily, cumulative, title, filename=filename, population=pop,\n",
    "                    logPlot=logPlot, unsmoothedAlso=unsmoothedAlso)\n",
    "\n",
    "test_plot_Kreis(ts=ts, bnn=bnn, dates=dates, datacolumns=datacolumns, logPlot=False, unsmoothedAlso=True)"
   ]
  },
  {
   "cell_type": "code",
   "execution_count": null,
   "metadata": {},
   "outputs": [],
   "source": [
    "test_plot_Kreis(ts=ts, bnn=bnn, dates=dates, datacolumns=datacolumns, unsmoothedAlso=False, logPlot=True)"
   ]
  },
  {
   "cell_type": "markdown",
   "metadata": {},
   "source": [
    "# now the same for many Kreise"
   ]
  },
  {
   "cell_type": "code",
   "execution_count": null,
   "metadata": {},
   "outputs": [],
   "source": [
    "AGSs=list(ts[\"AGS\"])[0:5]\n",
    "AGSs"
   ]
  },
  {
   "cell_type": "code",
   "execution_count": null,
   "metadata": {},
   "outputs": [],
   "source": [
    "def plotSeveralAGSs(AGSs, ts, bnn, dates, datacolumns, logPlot=False, unsmoothedAlso=True):\n",
    "    for AGS in AGSs:\n",
    "        daily, cumulative, title, filename, pop = dataMangling.get_Kreis(ts, bnn, AGS)\n",
    "        print(AGS, title)\n",
    "        plot_timeseries(datacolumns, dates, daily, cumulative, title, filename=filename, population=pop,\n",
    "                        logPlot=logPlot, unsmoothedAlso=unsmoothedAlso)\n",
    "        \n",
    "plotSeveralAGSs(AGSs, ts=ts, bnn=bnn, dates=dates, datacolumns=datacolumns,\n",
    "                logPlot=True, unsmoothedAlso=False)\n",
    "#               logPlot=False, unsmoothedAlso=True)"
   ]
  },
  {
   "cell_type": "code",
   "execution_count": null,
   "metadata": {},
   "outputs": [],
   "source": []
  }
 ],
 "metadata": {
  "kernelspec": {
   "display_name": "py3science",
   "language": "python",
   "name": "py3science"
  },
  "language_info": {
   "codemirror_mode": {
    "name": "ipython",
    "version": 3
   },
   "file_extension": ".py",
   "mimetype": "text/x-python",
   "name": "python",
   "nbconvert_exporter": "python",
   "pygments_lexer": "ipython3",
   "version": "3.7.3"
  }
 },
 "nbformat": 4,
 "nbformat_minor": 4
}
