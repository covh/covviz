{
 "cells": [
  {
   "cell_type": "markdown",
   "source": [
    "----\n",
    "# This notebook is outdated\n",
    "----"
   ],
   "metadata": {
    "collapsed": false
   }
  },
  {
   "cell_type": "code",
   "execution_count": null,
   "metadata": {},
   "outputs": [],
   "source": [
    "import os\n",
    "import pandas\n",
    "import numpy\n",
    "from matplotlib import pyplot as plt\n",
    "import matplotlib "
   ]
  },
  {
   "cell_type": "code",
   "execution_count": null,
   "metadata": {},
   "outputs": [],
   "source": [
    "DATA_PATH = os.path.join(\"..\", \"data\")\n",
    "BNN_FILE = os.path.join(DATA_PATH, \"GermanyKreisebene_Risklayer_bnn-20200425.csv\")\n",
    "TS_FILE =  os.path.join(DATA_PATH, \"GermanyValues_RiskLayer-20200425.csv\")\n",
    "PICS_PATH = os.path.join(DATA_PATH, \"..\", \"pics\")\n",
    "PAGES_PATH = os.path.join(DATA_PATH, \"..\", \"pages\")"
   ]
  },
  {
   "cell_type": "code",
   "execution_count": null,
   "metadata": {},
   "outputs": [],
   "source": [
    "def load_data(ts_f=TS_FILE, bnn_f=BNN_FILE):\n",
    "    ts=pandas.read_csv(ts_f)\n",
    "    bnn=pandas.read_csv(bnn_f)\n",
    "    return ts, bnn\n",
    "ts, bnn = load_data()\n",
    "\n",
    "synthetic_data = [0]*10 + [20,80,100] + [100] * (len(ts.columns)-2-10-3)\n",
    "row = pandas.Series([\"00000\", \"Dummykreis\"]+synthetic_data, index=ts.columns)\n",
    "ts=ts.append(row, ignore_index=True)\n",
    "\n",
    "synthetic_landkreis = [0, \"Dummykreis\", \"Landkreis\", 150000, 100, 0.67, 0, 300,\"Dummyland\", 400000, 0.75]\n",
    "row = pandas.Series(synthetic_landkreis, index=bnn.columns)\n",
    "bnn=bnn.append(row, ignore_index=True)"
   ]
  },
  {
   "cell_type": "code",
   "execution_count": null,
   "metadata": {},
   "outputs": [],
   "source": [
    "bnn"
   ]
  },
  {
   "cell_type": "code",
   "execution_count": null,
   "metadata": {},
   "outputs": [],
   "source": [
    "def find_AGS(name):\n",
    "    cond = ts['ADMIN'].str.contains(name, na=False)\n",
    "    # return cond\n",
    "    rows = ts.loc[cond]\n",
    "    return rows\n",
    "find_AGS(\"Osnabrück\")\n",
    "find_AGS(\"Heinsberg\")\n"
   ]
  },
  {
   "cell_type": "code",
   "execution_count": null,
   "metadata": {},
   "outputs": [],
   "source": [
    "import datetime as dt\n",
    "def to_dt(dt_str):\n",
    "    d = list(map(int, dt_str.split(\".\")))\n",
    "    # print(d)\n",
    "    return dt.datetime(d[2], d[1], d[0])\n",
    "\n",
    "dates=[to_dt(d) for d in ts.columns[2:].values]\n",
    "print (dates)\n",
    "# ts.values[0]"
   ]
  },
  {
   "cell_type": "code",
   "execution_count": null,
   "metadata": {},
   "outputs": [],
   "source": [
    "def AGS_to_ts_total(AGS):\n",
    "    AGS = (\"00000\"+AGS)[-5:]\n",
    "    row = ts.loc[ts['AGS'] == AGS]\n",
    "    return row.values[0][2:].tolist()\n",
    "    \n",
    "AGS = \"0\"\n",
    "AGS = \"1001\"\n",
    "AGS_to_ts_total(AGS)"
   ]
  },
  {
   "cell_type": "code",
   "execution_count": null,
   "metadata": {},
   "outputs": [],
   "source": [
    "def AGS_to_ts_daily(AGS):\n",
    "    AGS = (\"00000\"+AGS)[-5:]\n",
    "    row = ts.loc[ts['AGS'] == AGS]\n",
    "    row = row.drop(['AGS', 'ADMIN'], axis=1)\n",
    "    # return row\n",
    "    diff = row.diff(axis=1)\n",
    "    return diff.values[0].tolist()\n",
    "    \n",
    "AGS=\"0\"\n",
    "#AGS=\"5370\"\n",
    "print(AGS_to_ts_daily(AGS))"
   ]
  },
  {
   "cell_type": "code",
   "execution_count": null,
   "metadata": {},
   "outputs": [],
   "source": [
    "def AGS_to_population(AGS):\n",
    "    # AGS = (\"00000\"+AGS)[-5:]\n",
    "    AGS = int(AGS)\n",
    "    # print(AGS)\n",
    "    row = bnn.loc[bnn['AGS'] == AGS]\n",
    "    pop = row[\"Population\"].values[0] \n",
    "    inf = row[\"Infections\"].values[0] \n",
    "    gen = row[\"GEN\"].values[0] \n",
    "    bez = row[\"BEZ\"].values[0] \n",
    "    return gen, bez, inf, pop\n",
    "def AGS_to_Bundesland(AGS):\n",
    "    # AGS = (\"00000\"+AGS)[-5:]\n",
    "    AGS = int(AGS)\n",
    "    row = bnn.loc[bnn['AGS'] == AGS]\n",
    "    name = row[\"Bundesland\"].values[0] \n",
    "    inf_BL = row[\"Infections_Bundesland\"].values[0] \n",
    "    pop_BL = row[\"Population_Bundesland\"].values[0] \n",
    "    return name, inf_BL, pop_BL\n",
    "\n",
    "AGS=\"0\"\n",
    "#AGS=\"1001\"\n",
    "print (AGS_to_population(AGS)) \n",
    "print(AGS_to_Bundesland(AGS))"
   ]
  },
  {
   "cell_type": "code",
   "execution_count": null,
   "metadata": {},
   "outputs": [],
   "source": [
    "def temporal_center(data):\n",
    "    \"\"\"\n",
    "    find 'center' index of data by \n",
    "    multiplying height with index, and dividing by sum of heights\n",
    "    \n",
    "    TODO: what to do with the negative values?\n",
    "          Cut them out before summing perhaps?\n",
    "          On the other hand, they (temporarily-)LOCALLY correct over-reported cases, right?\n",
    "          So perhaps better to leave them in?\n",
    "    \"\"\"\n",
    "    ddata = data[1:] # drop the nan in the first cell, i.e. shift left\n",
    "    productsum = sum([d*(i+1) for i,d in enumerate(ddata)]) # add one i.e. shift right\n",
    "    center = productsum/sum(ddata) # + 1 - 1 # shift left and right equalize each other\n",
    "    # synthetic \"data\" with one peak near center:\n",
    "    signal = [0]*len(data)\n",
    "    signal[int(round(center))]=max(ddata)*0.25\n",
    "    return center, signal\n",
    "    \n",
    "data = AGS_to_ts_daily(\"00000\")\n",
    "# print (data)\n",
    "center, signal = temporal_center(data)\n",
    "print (\"center at day %.2f\" % center)\n",
    "    "
   ]
  },
  {
   "cell_type": "code",
   "execution_count": null,
   "metadata": {},
   "outputs": [],
   "source": [
    "def plot_timeseries(dates, daily, cumulative, title, filename):\n",
    "\n",
    "    fig, ax = plt.subplots(figsize=(14, 10)) #, constrained_layout=True)\n",
    "    # plt.tight_layout()\n",
    "\n",
    "    # x axis\n",
    "    ax.xaxis_date()\n",
    "    ax.xaxis.set_minor_locator(matplotlib.dates.DayLocator())\n",
    "    fig.autofmt_xdate(rotation=45)\n",
    "\n",
    "\n",
    "    # plot data\n",
    "    lns1 = ax.plot(dates, daily, label=\"daily cases\", color='lightgray')\n",
    "    plt.ylabel(\"daily cases\", color=\"black\")\n",
    "    plt.ylim(0, max(daily[1:])*1.5)\n",
    "\n",
    "    # plot averages\n",
    "    window=7\n",
    "    rolling_mean = pandas.DataFrame(daily).rolling(window=window, center=True).mean()\n",
    "    lns2 = ax.plot(dates, rolling_mean, label='daily: SMA %s days' % window, color='purple')\n",
    "\n",
    "    window=14\n",
    "    rolling_mean = pandas.DataFrame(daily).rolling(window=window, center=True).mean()\n",
    "    lns3 = ax.plot(dates, rolling_mean, label='daily: SMA %s days' % window, color='orange', linewidth=4)\n",
    "\n",
    "    # window=21\n",
    "    # rolling_mean = pandas.DataFrame(daily).rolling(window=window, center=True).mean()\n",
    "    # ax.plot(dates, rolling_mean, label='SMA %s days' % window, color='pink', linewidth=1)\n",
    "\n",
    "    # plot center bar\n",
    "    center, signal = temporal_center(daily)\n",
    "    center_date=ts.columns[2:].values[int(round(center))]\n",
    "    lns4 = ax.bar(dates, signal, label=\"'center day': \"+center_date, color='green')\n",
    "    # lns4 = ax.plot(dates, signal, label=\"'center day': \"+center_date, color='green', kind='bar')\n",
    "\n",
    "\n",
    "    # plot 2nd axis and cumulative data\n",
    "    ax2 = plt.twinx()\n",
    "    plt.ylim(0, max(cumulative)*1.1)\n",
    "    plt.ylabel(\"cumulative total cases\", color=\"b\")\n",
    "\n",
    "    lns5 = ax2.plot(dates, cumulative, label=\"total cases\", color = 'b')\n",
    "\n",
    "    lines = lns5 + lns1 + lns2 + lns3\n",
    "    labs = [l.get_label() for l in lines]\n",
    "\n",
    "    plt.legend(lines, labs, loc='best', facecolor=\"white\", framealpha=1, \n",
    "               title=\"'center date' = \"+center_date)\n",
    "\n",
    "    plt.title(title)\n",
    "    plt.show()\n",
    "    \n",
    "    fig.savefig(os.path.join(PICS_PATH, filename),  bbox_inches='tight')\n",
    "\n",
    "    \n",
    "def get_Kreis(AGS):\n",
    "    # get data and names\n",
    "    gen, bez, inf, pop = AGS_to_population(AGS)\n",
    "    title = \"%s (%s) AGS %s\" % (gen, bez, AGS)\n",
    "    filename = \"Kreis_\" + (\"00000\"+AGS)[-5:] + \".png\"\n",
    "    daily = AGS_to_ts_daily(AGS)\n",
    "    cumulative = AGS_to_ts_total(AGS)\n",
    "    return daily, cumulative, title, filename\n",
    "# print (cumulative)\n",
    "\n",
    "AGS = \"00000\"\n",
    "# AGS = \"5370\"\n",
    "AGS = \"1001\"\n",
    "AGS=\"9377\"\n",
    "\n",
    "daily, cumulative, title, filename = get_Kreis(AGS)\n",
    "plot_timeseries(dates, daily, cumulative, title, filename=filename)"
   ]
  },
  {
   "cell_type": "code",
   "execution_count": null,
   "metadata": {},
   "outputs": [],
   "source": [
    "import copy\n",
    "ts_int = copy.deepcopy(ts.dropna()) # careful, there might be more fields with na but just the 3 copyright rows\n",
    "ts_int[\"AGS\"]=pandas.to_numeric(ts_int[\"AGS\"]) # must transform string to int, for merge:\n",
    "ts_BuLa=pandas.merge(ts_int, bnn[[\"AGS\", \"Bundesland\", \"Population\"]], how=\"left\", on=[\"AGS\"])\n",
    "ts_BuLa"
   ]
  },
  {
   "cell_type": "code",
   "execution_count": null,
   "metadata": {},
   "outputs": [],
   "source": [
    "Bundeslaender=ts_BuLa.drop([\"AGS\"], axis=1).groupby([\"Bundesland\"]).sum()\n",
    "print(Bundeslaender[\"Population\"].sum())\n",
    "Bundeslaender"
   ]
  },
  {
   "cell_type": "code",
   "execution_count": null,
   "metadata": {},
   "outputs": [],
   "source": [
    "#Bundeslaender.drop([\"Population\"], axis=1).loc['Hessen'].to_list()"
   ]
  },
  {
   "cell_type": "code",
   "execution_count": null,
   "metadata": {},
   "outputs": [],
   "source": [
    "def get_BuLa(name):\n",
    "    # get data and names\n",
    "    title = name\n",
    "    filename = \"bundesland_\" + name + \".png\"\n",
    "    population = Bundeslaender.loc['Hessen', \"Population\"]\n",
    "    # row = Bundeslaender.loc[Bundeslaender['Bundesland'] == name]\n",
    "    row = Bundeslaender.drop([\"Population\"], axis=1).loc[[name]]\n",
    "    \n",
    "    cumulative=row.values[0].tolist()\n",
    "    diff = row.diff(axis=1)\n",
    "    daily = diff.values[0].tolist()\n",
    "    \n",
    "    return daily, cumulative, title, filename, population\n",
    "\n",
    "daily, cumulative, title, filename, population = get_BuLa(\"Hessen\")\n",
    "[title, filename, population, daily, cumulative]\n"
   ]
  },
  {
   "cell_type": "code",
   "execution_count": null,
   "metadata": {},
   "outputs": [],
   "source": [
    "daily, cumulative, title, filename, population = get_BuLa(\"Bayern\")\n",
    "plot_timeseries(dates, daily, cumulative, title, filename=filename)"
   ]
  },
  {
   "cell_type": "code",
   "execution_count": null,
   "metadata": {},
   "outputs": [],
   "source": [
    "for BL in Bundeslaender.index.tolist():\n",
    "    daily, cumulative, title, filename, population = get_BuLa(BL)\n",
    "    plot_timeseries(dates, daily, cumulative, title, filename=filename)"
   ]
  },
  {
   "cell_type": "code",
   "execution_count": null,
   "metadata": {},
   "outputs": [],
   "source": [
    "ts_BuLa[\"centerday\"] = [ temporal_center( AGS_to_ts_daily(\"%s\" % AGS) )[0] for AGS in ts_BuLa[\"AGS\"].tolist() ]\n",
    "ts_sorted=ts_BuLa.sort_values(\"centerday\").set_index(\"AGS\")"
   ]
  },
  {
   "cell_type": "code",
   "execution_count": null,
   "metadata": {},
   "outputs": [],
   "source": [
    "def maxdata(ts_sorted):\n",
    "    maxvalue = max(ts_sorted[ts.columns[2:]].max())\n",
    "    digits=int(1+numpy.log10(maxvalue))\n",
    "    return maxvalue, digits\n",
    "\n",
    "maxdata(ts_sorted)"
   ]
  },
  {
   "cell_type": "code",
   "execution_count": null,
   "metadata": {},
   "outputs": [],
   "source": [
    "ts_sorted[\"centerday\"][1001]\n",
    "\n"
   ]
  },
  {
   "cell_type": "code",
   "execution_count": null,
   "metadata": {},
   "outputs": [],
   "source": [
    "def toHTMLRow_diffmean(AGS, digits, cmap, labels):\n",
    "    row = ts_sorted[ts.columns[2:]].loc[AGS].astype('int')\n",
    "    diff= pandas.DataFrame(row).diff(axis=0)[AGS].tolist()\n",
    "    diff[0]=0 # overwrite the nan\n",
    "    diff=list(map(int, diff)) #make integer\n",
    "    \n",
    "    window=14\n",
    "    rolling_mean_diff = pandas.DataFrame(diff).rolling(window=window, center=True).mean().fillna(0)[0].tolist()\n",
    "    # return rolling_mean_diff\n",
    "    \n",
    "    cumulative=row.tolist()\n",
    "    # return diff, cumulative\n",
    "    cummax, diffmax, rollingdiffmax = max(cumulative), max(diff), max(rolling_mean_diff)\n",
    "    # return cummax, diffmax, rollingdiffmax\n",
    "    line=\"<tr>\"\n",
    "    # for c,d in zip(cumulative, rolling_mean_diff):\n",
    "    for c,d in zip(cumulative, diff):\n",
    "        rgb = matplotlib.colors.to_hex(cmap(d/rollingdiffmax))\n",
    "        line+='<td bgcolor=\"%s\">%d</td>' % (rgb, c)\n",
    "    for label in labels:\n",
    "        line+=\"<td>%s</td>\" % label\n",
    "    return line + \"</tr>\"\n",
    "    \n",
    "total_max_cum, digits = maxdata(ts_sorted)\n",
    "cmap=plt.get_cmap(\"Wistia\")\n",
    "toHTMLRow(5370, digits, cmap, labels=[\"5370\"])"
   ]
  },
  {
   "cell_type": "code",
   "execution_count": null,
   "metadata": {},
   "outputs": [],
   "source": [
    "def toHTMLRow(AGS, digits, cmap, labels, rolling_window_size=5):\n",
    "    row = ts_sorted[ts.columns[2:]].loc[AGS].astype('int')\n",
    "    # return row\n",
    "\n",
    "    window=rolling_window_size\n",
    "    rolling_mean_cum = row.rolling(window=window, center=True).mean()\n",
    "    # return rolling_mean_cum\n",
    "\n",
    "    # diff= pandas.DataFrame(rolling_mean_cum).diff(axis=0).fillna(0)[AGS].tolist()\n",
    "    diff= pandas.DataFrame(rolling_mean_cum).diff(axis=0)[AGS].tolist()\n",
    "    # return diff\n",
    "    \n",
    "    cumulative=row.tolist()\n",
    "    # return diff, cumulative\n",
    "    diffmax = numpy.nanmax(diff)\n",
    "    # return diffmax\n",
    "    line=\"<tr>\"\n",
    "    # for c,d in zip(cumulative, rolling_mean_diff):\n",
    "    for c,d in zip(cumulative, diff):\n",
    "        rgb = matplotlib.colors.to_hex(cmap(d/diffmax))\n",
    "        line+='<td bgcolor=\"%s\"><span>%d</span></td>' % (rgb, c)\n",
    "    for label in labels:\n",
    "        line+=\"<td>%s</td>\" % label\n",
    "    return line + \"</tr>\"\n",
    "    \n",
    "total_max_cum, digits = maxdata(ts_sorted)\n",
    "cmap=plt.get_cmap(\"Wistia\")\n",
    "cmap.set_bad(\"white\")\n",
    "toHTMLRow(5370, digits, cmap, labels=[\"5370\"])"
   ]
  },
  {
   "cell_type": "code",
   "execution_count": null,
   "metadata": {},
   "outputs": [],
   "source": [
    "PAGE=\"\"\"\n",
    "\n",
    "<!DOCTYPE html>\n",
    "<html>\n",
    "<head>\n",
    "<STYLE>\n",
    "\n",
    "table {\n",
    "  border-collapse: collapse;\n",
    "}\n",
    "th, td {\n",
    "  text-align:center;\n",
    "  font-family: 'Roboto Condensed', sans-serif;\n",
    "}\n",
    "\n",
    "\n",
    "td span\n",
    "{\n",
    "  font-family: 'Teko', sans-serif;\n",
    "  text-align:center;\n",
    "}\n",
    "\n",
    "\n",
    "th\n",
    "{\n",
    "  vertical-align: bottom;\n",
    "  text-align: center;\n",
    "}\n",
    "\n",
    "th span\n",
    "{\n",
    "  -ms-writing-mode: tb-rl;\n",
    "  -webkit-writing-mode: vertical-rl;\n",
    "  writing-mode: vertical-rl;\n",
    "  transform: rotate(180deg);\n",
    "  white-space: nowrap;\n",
    "  font-family: sans-serif;\n",
    "}\n",
    "</STYLE>\n",
    "<link href=\"https://fonts.googleapis.com/css?family=Roboto+Condensed|Teko&display=swap\" rel=\"stylesheet\">\n",
    "</head>\n",
    "<body>\n",
    "\"\"\"\n",
    "\n",
    "PAGE_END=\"\"\"\n",
    "</body>\n",
    "</html>\n",
    "\"\"\""
   ]
  },
  {
   "cell_type": "code",
   "execution_count": null,
   "metadata": {},
   "outputs": [],
   "source": [
    "total_max_cum, digits = maxdata(ts_sorted)\n",
    "cmap=plt.get_cmap(\"Wistia\")\n",
    "# cmap.set_under(), cmap.set_over() outside [0,1]\n",
    "district_AGSs = [1001, 1002, 5370, 9377]\n",
    "district_AGSs = ts_sorted.index.tolist()\n",
    "\n",
    "page = PAGE + \"<table><tr>\\n\"\n",
    "for col in ts.columns[2:]:\n",
    "    page += \"<th><span>%s</span></th>\" % col\n",
    "\n",
    "cols = [\"Kreis\", \"Population\", \"Bundesland\", \"center day\" ]\n",
    "for col in cols:\n",
    "    page += \"<th>%s</th>\" % col\n",
    "page +=\"</tr>\"\n",
    "for AGS in district_AGSs:\n",
    "    gen, bez, inf, pop = AGS_to_population(AGS)\n",
    "    name_BL, inf_BL, pop_BL = AGS_to_Bundesland(AGS)\n",
    "    labels = [\"%s (%s)\" % (gen, bez)]\n",
    "    labels += [pop]\n",
    "    labels += [name_BL]\n",
    "    labels += [\"%.2f\"% (ts_sorted[\"centerday\"][AGS])]\n",
    "    page += toHTMLRow(AGS, digits, cmap, labels) + \"\\n\"\n",
    "page += \"</table>\" + PAGE_END\n",
    "\n",
    "fn=os.path.join(PAGES_PATH, \"test.html\")\n",
    "with open(fn, \"w\") as f:\n",
    "    f.write(page)\n",
    "print (fn)"
   ]
  }
 ],
 "metadata": {
  "kernelspec": {
   "display_name": "py3science",
   "language": "python",
   "name": "py3science"
  },
  "language_info": {
   "codemirror_mode": {
    "name": "ipython",
    "version": 3
   },
   "file_extension": ".py",
   "mimetype": "text/x-python",
   "name": "python",
   "nbconvert_exporter": "python",
   "pygments_lexer": "ipython3",
   "version": "3.7.3"
  }
 },
 "nbformat": 4,
 "nbformat_minor": 4
}