{
 "cells": [
  {
   "cell_type": "code",
   "execution_count": null,
   "metadata": {},
   "outputs": [],
   "source": [
    "# Population density --> Covid incidence ?"
   ]
  },
  {
   "cell_type": "code",
   "execution_count": null,
   "metadata": {},
   "outputs": [],
   "source": [
    "import sys, datetime\n",
    "import numpy, matplotlib, pandas, wget # pip3 install numpy, matplotlib, pandas, wget\n",
    "\n",
    "from IPython.core.display import display, HTML\n",
    "display(HTML(\"<style>.container { width:95% !important; }</style>\"))\n",
    "pandas.set_option('display.max_columns', None)"
   ]
  },
  {
   "cell_type": "code",
   "execution_count": null,
   "metadata": {},
   "outputs": [],
   "source": [
    "OPENDATASOFT_URL01 = \"https://public.opendatasoft.com/explore/dataset/covid-19-germany-landkreise/table\"\n",
    "OPENDATASOFT_URL02 = \"https://public.opendatasoft.com/explore/dataset/covid-19-germany-landkreise/download/?format=csv&lang=en&use_labels_for_header=true&csv_separator=%3B\"\n",
    "FILENAME = \"covid-19-germany-landkreise.csv\"\n",
    "\n",
    "def download_kreise(url1=OPENDATASOFT_URL01, url2=OPENDATASOFT_URL02, out=FILENAME):\n",
    "    print (\"Downloading large table with Kreise information. For infos see\")\n",
    "    print (url1)\n",
    "    print (\"Patience please ...\", end=\" \")\n",
    "    filename = wget.download(url2, out=out)\n",
    "    print (\"Done -->\", filename)\n",
    "    return filename\n",
    "\n",
    "filename = download_kreise(url1=OPENDATASOFT_URL01, url2=OPENDATASOFT_URL02, out=FILENAME)\n",
    "filename"
   ]
  },
  {
   "cell_type": "code",
   "execution_count": null,
   "metadata": {},
   "outputs": [],
   "source": [
    "LKG=pandas.read_csv(filename, sep=';')\n",
    "LKG.columns"
   ]
  },
  {
   "cell_type": "code",
   "execution_count": null,
   "metadata": {},
   "outputs": [],
   "source": [
    "LKG"
   ]
  },
  {
   "cell_type": "code",
   "execution_count": null,
   "metadata": {},
   "outputs": [],
   "source": [
    "LKG.describe()"
   ]
  },
  {
   "cell_type": "code",
   "execution_count": null,
   "metadata": {},
   "outputs": [],
   "source": [
    "# print(\"\\n\".join(map(str, sorted(list(LKG['Regional code'])))))"
   ]
  },
  {
   "cell_type": "code",
   "execution_count": null,
   "metadata": {},
   "outputs": [],
   "source": [
    "uninteresting=['Administrative level', 'Specific domains', 'Regional code of the local authority','Type of division', 'Type of division code', 'Name construction indication', 'Regierungsbezirk code','recovered','RS_0', 'Land factor', 'WSK']\n",
    "kreise=LKG.drop(uninteresting, axis=1)"
   ]
  },
  {
   "cell_type": "code",
   "execution_count": null,
   "metadata": {},
   "outputs": [],
   "source": [
    "# Brandenburg and Berlin\n",
    "selection=(10999<LKG['Regional code']) & (13000>LKG['Regional code'])\n",
    "kreise[selection]\n",
    "kreise[[\"Regional code\", \"Short name\", \"Cadastral area\", \"SHAPE_Area\"]][selection]"
   ]
  },
  {
   "cell_type": "code",
   "execution_count": null,
   "metadata": {},
   "outputs": [],
   "source": [
    "print('fix missing \"Cadastral area\" data for Berlin, by extrapolating from given \"SHAPE_Area\"')\n",
    "print()\n",
    "\n",
    "print(\"Explore approximate proportionality:\")\n",
    "print((kreise['Cadastral area']/kreise['SHAPE_Area']).describe())\n",
    "M=(kreise['Cadastral area']/kreise['SHAPE_Area']).mean()\n",
    "print('factor shape-->cadastral:', M)\n",
    "print()\n",
    "\n",
    "print(\"Now apply that to Berlin:\")\n",
    "\n",
    "berlin=(10999<LKG['Regional code']) & (11013>LKG['Regional code'])\n",
    "\n",
    "areatotal=0\n",
    "for k in kreise[berlin].index:\n",
    "    SA=kreise['SHAPE_Area'][k]\n",
    "    CA_extrapolated = SA*M\n",
    "    print(k, SA, CA_extrapolated)\n",
    "    kreise.at[k, 'Cadastral area'] = CA_extrapolated\n",
    "    areatotal+=CA_extrapolated\n",
    "\n",
    "print()\n",
    "print(\"Berlin area scaled and summed: %.1f\" % areatotal)\n",
    "print(\"Wikipedia: Area City/State     891.1 km2 \")\n",
    "print (\"approximation is ... good enough\")"
   ]
  },
  {
   "cell_type": "code",
   "execution_count": null,
   "metadata": {},
   "outputs": [],
   "source": [
    "kreise[[\"Short name\", \"Cadastral area\", \"SHAPE_Area\"]][selection]"
   ]
  },
  {
   "cell_type": "code",
   "execution_count": null,
   "metadata": {},
   "outputs": [],
   "source": [
    "kreise['Population density']=kreise['Population']/kreise['Cadastral area']\n",
    "someColumns1=[\"Short name\", \"Population density\", \"Population\", \"Cadastral area\", 'Cases per 100k persons in the last 7 days']\n",
    "popDensiSorted=kreise[someColumns1].sort_values(\"Population density\", ascending=False).reset_index().drop(['index'], axis=1)\n",
    "popDensiSorted"
   ]
  },
  {
   "cell_type": "code",
   "execution_count": null,
   "metadata": {},
   "outputs": [],
   "source": [
    "popDensiSorted.head(15)"
   ]
  },
  {
   "cell_type": "code",
   "execution_count": null,
   "metadata": {},
   "outputs": [],
   "source": [
    "ax=popDensiSorted.head(30).reset_index().plot(x='Short name', y='Population density', kind='bar', logy=True, rot=90, figsize=(20,15), title=\"Population divided by km² Area of 'Kreis' (district) for the top most dense in Germany. Beware that y-axis is logarithmic.\")\n",
    "matplotlib.pyplot.tight_layout()\n",
    "ax.figure.savefig(fname=\"img/populationDensity_top30.png\")\n"
   ]
  },
  {
   "cell_type": "code",
   "execution_count": null,
   "metadata": {
    "scrolled": false
   },
   "outputs": [],
   "source": [
    "ax=popDensiSorted.head(100).plot(x='Short name', y='Population density', kind='bar', logy=True, rot=90, figsize=(25,15), title=\"Population divided by km² Area of 'Kreis' (district), for top100 most dense in Germany. Beware that y-axis is logarithmic.\")\n",
    "matplotlib.pyplot.tight_layout()\n",
    "ax.figure.savefig(fname=\"img/populationDensity_top100.png\")"
   ]
  },
  {
   "cell_type": "code",
   "execution_count": null,
   "metadata": {},
   "outputs": [],
   "source": [
    "ax=popDensiSorted.plot(x='Short name', y='Population density', kind='scatter', logy=True, rot=90, figsize=(25,15), title=\"Population divided by km² Area of 'Kreis' (district), for all of Germany. Beware: y-axis is logarithmic. x-labels only every 4th.\")\n",
    "ax.xaxis.set_major_locator(matplotlib.pyplot.MaxNLocator(100))\n",
    "matplotlib.pyplot.tight_layout()\n",
    "ax.figure.savefig(fname=\"img/populationDensity_all.png\")"
   ]
  },
  {
   "cell_type": "code",
   "execution_count": null,
   "metadata": {},
   "outputs": [],
   "source": [
    "maxIncidence=max(popDensiSorted['Cases per 100k persons in the last 7 days'])\n",
    "minIncidence=min(popDensiSorted['Cases per 100k persons in the last 7 days'])\n",
    "print(\"(minIncidence, maxIncidence)\", (minIncidence, maxIncidence))\n",
    "\n",
    "TODAY=(\"(%s\" % datetime.datetime.now())[:11]+\")\"\n",
    "print (TODAY)"
   ]
  },
  {
   "cell_type": "code",
   "execution_count": null,
   "metadata": {},
   "outputs": [],
   "source": [
    "ax=popDensiSorted.plot(x='Short name', y='Cases per 100k persons in the last 7 days', kind='scatter', logy=True, rot=90, figsize=(25,15), title=TODAY+\" 'Cases per 100k persons in the last 7 days', with all German districts ('Kreis') SORTED by DECREASING population density. Beware: y-axis is logarithmic. x-labels only every 4th.\")\n",
    "ax.set_ylim([1, maxIncidence*1.10])\n",
    "ax.xaxis.set_major_locator(matplotlib.pyplot.MaxNLocator(100))\n",
    "matplotlib.pyplot.tight_layout()\n",
    "ax.figure.savefig(fname=\"img/populationDensity-sorted-districts_vs_incidence.png\")"
   ]
  },
  {
   "cell_type": "code",
   "execution_count": null,
   "metadata": {},
   "outputs": [],
   "source": [
    "ax=popDensiSorted.plot(x='Population density', y='Cases per 100k persons in the last 7 days', kind='scatter', logx=True, logy=True, rot=90, figsize=(15,10), title=TODAY+\" 'Cases per 100k persons in the last 7 days' versus 'Population density', for each German district ('Kreis'). Beware: both axes logarithmic.\")\n",
    "ax.set_ylim([1, maxIncidence*1.10])\n",
    "matplotlib.pyplot.tight_layout()\n",
    "ax.figure.savefig(fname=\"img/populationDensity_vs_incidence_data_loglog.png\")"
   ]
  },
  {
   "cell_type": "code",
   "execution_count": null,
   "metadata": {},
   "outputs": [],
   "source": [
    "clean7=kreise[someColumns1][kreise['Cases per 100k persons in the last 7 days']==0]\n",
    "if not clean7.empty:\n",
    "    \n",
    "    print (\"kick out zero incidence regions\")\n",
    "    print (clean7)\n",
    "    kreise=kreise.drop(clean7.index)\n",
    "else:\n",
    "    print (\"No district had zero 7-days-incidence.\")"
   ]
  },
  {
   "cell_type": "code",
   "execution_count": null,
   "metadata": {},
   "outputs": [],
   "source": [
    "# regression\n",
    "\n",
    "x=numpy.log(kreise['Population density'])\n",
    "y=numpy.log(kreise['Cases per 100k persons in the last 7 days'])\n",
    "\n",
    "coeff = numpy.polyfit(x=x, y=y, deg=1)\n",
    "print(coeff)\n",
    "poly1d_fn = numpy.poly1d(coeff) \n",
    "poly1d_fn\n",
    "\n",
    "weights=kreise['Population'] # make districts count more which have larger population\n",
    "coeff2 = numpy.polyfit(x=x, y=y, deg=1, w=weights)\n",
    "print(coeff2)\n",
    "poly1d_fn_2 = numpy.poly1d(coeff2) \n",
    "\n",
    "coeff3 = numpy.polyfit(x=x, y=y, deg=3, w=weights)\n",
    "print(coeff3)\n",
    "poly1d_fn_3 = numpy.poly1d(coeff3) "
   ]
  },
  {
   "cell_type": "code",
   "execution_count": null,
   "metadata": {},
   "outputs": [],
   "source": [
    "# log log plot and regression fits\n",
    "\n",
    "plt=matplotlib.pyplot\n",
    "fig=plt.figure(figsize=(15,15))\n",
    "gs = fig.add_gridspec(1, 1)\n",
    "ax1 = fig.add_subplot(gs[0, 0])\n",
    "\n",
    "norm=matplotlib.colors.LogNorm()\n",
    "cmap='cool'\n",
    "# cmap=matplotlib.cm.coolwarm\n",
    "\n",
    "cax1=ax1.scatter(x,y,\n",
    "                 c=weights, cmap=cmap, norm=norm,\n",
    "                 marker='o', label=\"All German districts ('Kreise'): Recent incidence versus population density\")\n",
    "fig.colorbar(cax1, label='Population', orientation='horizontal')\n",
    "\n",
    "ax1.plot(x, poly1d_fn(x), 'b--', label=\"simple regression through all these points --> coefficients=(%.4f,%.4f)\" % (coeff[0],coeff[1]))\n",
    "ax1.plot(x, poly1d_fn_2(x), 'g--', label=\"population-weighted regression ('large count more'), coeff=(%.4f,%.4f)\" % (coeff2[0],coeff2[1]))\n",
    "ax1.plot(sorted(x), sorted(poly1d_fn_3(x)), 'r--', label=\"population-weighted regression with deg=3, coeff=(%.4f,%.4f,%.4f,%.4f)\" % (coeff3[0],coeff3[1],coeff3[2],coeff3[3]))\n",
    "\n",
    "ax1.set_xlabel(\"LOG (Population density)\")\n",
    "ax1.set_ylabel(\"LOG (Cases per 100k persons in the last 7 days)\")\n",
    "\n",
    "ax1.set_title(TODAY+\" LOG LOG plot of 'Incidence' versus 'Population density' and simple regression fits\")\n",
    "L=ax1.legend(loc=4)\n",
    "\n",
    "matplotlib.pyplot.tight_layout()\n",
    "ax1.figure.savefig(fname=\"img/populationDensity_vs_incidence_data-and-fits_loglog.png\")"
   ]
  },
  {
   "cell_type": "code",
   "execution_count": null,
   "metadata": {},
   "outputs": [],
   "source": [
    "plt=matplotlib.pyplot\n",
    "fig=plt.figure(figsize=(15,15))\n",
    "gs = fig.add_gridspec(1, 1)\n",
    "ax1 = fig.add_subplot(gs[0, 0])\n",
    "\n",
    "norm=matplotlib.colors.LogNorm()\n",
    "cmap='cool'\n",
    "# cmap=matplotlib.cm.coolwarm\n",
    "\n",
    "cax1=ax1.scatter(x=kreise['Population density'],y=kreise['Cases per 100k persons in the last 7 days'],\n",
    "                 c=weights, cmap=cmap, norm=norm,\n",
    "                 marker='o', label=\"All German districts ('Kreise'): Recent incidence versus population density\")\n",
    "fig.colorbar(cax1, label='Population', orientation='horizontal')\n",
    "\n",
    "# to plot these with connecting lines, they must be in order:\n",
    "fit_x, fit_y = sorted(kreise['Population density']), sorted(numpy.exp(poly1d_fn_2(x)).tolist())\n",
    "fit3_x, fit3_y = sorted(kreise['Population density']), sorted(numpy.exp(poly1d_fn_3(x)).tolist())\n",
    "\n",
    "ax1.plot(fit_x, fit_y, 'g--', label=\"population-weighted fit ('large count more') of loglog data, coeff=(%.4f,%.4f)\" % (coeff2[0],coeff2[1]))\n",
    "ax1.plot(fit3_x, fit3_y, 'r--', label=\"population-weighted fit of loglog data with deg=3, coeff=(%.4f,%.4f,%.4f,%.4f)\" % (coeff3[0],coeff3[1],coeff3[2],coeff3[3]))\n",
    "\n",
    "ax1.set_xlabel(\"Population density: People per square km\")\n",
    "ax1.set_ylabel(\"Cases per 100k persons in the last 7 days\")\n",
    "\n",
    "ax1.set_title(TODAY+\" LIN LIN plot of 'Incidence' versus 'Population density' and simple regression fits\")\n",
    "L=ax1.legend(loc=4)\n",
    "\n",
    "# showOnlySmallPopulationDensities=ax1.set_xlim([0,2000])\n",
    "\n",
    "matplotlib.pyplot.tight_layout()\n",
    "ax1.figure.savefig(fname=\"img/populationDensity_vs_incidence_data-and-fits_linlin.png\")"
   ]
  },
  {
   "cell_type": "code",
   "execution_count": null,
   "metadata": {},
   "outputs": [],
   "source": [
    "# regression\n",
    "\n",
    "X=numpy.sqrt(kreise['Population density'])\n",
    "X_label=\"SQRT(Population density)\"\n",
    "Y=numpy.sqrt(kreise['Cases per 100k persons in the last 7 days'])\n",
    "Y_label='SQRT(Cases per 100k persons in the last 7 days)'\n",
    "\n",
    "title_prefix=\"SQRT SQRT\"\n",
    "\n",
    "coeff = numpy.polyfit(x=X, y=Y, deg=1)\n",
    "print(\"coefficients:\", coeff)\n",
    "FitFn = numpy.poly1d(coeff) \n",
    "\n",
    "# (sqrt, sqrt) plot and regression fits\n",
    "\n",
    "plt=matplotlib.pyplot\n",
    "fig=plt.figure(figsize=(15,15)); gs = fig.add_gridspec(1, 1); ax1 = fig.add_subplot(gs[0, 0])\n",
    "cmap,norm='cool',matplotlib.colors.LogNorm()\n",
    "\n",
    "cax1=ax1.scatter(X,Y,\n",
    "                 c=weights, cmap=cmap, norm=norm,\n",
    "                 marker='o', label=\"All German districts ('Kreise'): Recent incidence versus '%s'\" % X_label)\n",
    "ax1.plot(X, FitFn(X), 'b--', label=\"simple regression through all these points --> coefficients=(%.4f,%.4f)\" % (coeff[0],coeff[1]))\n",
    "fig.colorbar(cax1, label='Population', orientation='horizontal')\n",
    "\n",
    "ax1.set_xlabel(X_label); ax1.set_ylabel(Y_label)\n",
    "ax1.set_title(TODAY+\" [%s] plot of '%s' versus '%s' and simple regression fit\" % (title_prefix, X_label, Y_label))\n",
    "L=ax1.legend(loc=4)\n",
    "\n",
    "matplotlib.pyplot.tight_layout()\n",
    "fname=\"img/populationDensity_vs_incidence_data-and-fits_%s.png\" % (title_prefix.lower().replace(\" \", \"\"))\n",
    "ax1.figure.savefig(fname=fname)\n",
    "print(fname)"
   ]
  },
  {
   "cell_type": "code",
   "execution_count": null,
   "metadata": {},
   "outputs": [],
   "source": [
    "# transformed back into lin lin:\n",
    "\n",
    "X_label=\"Population density\"\n",
    "Y_label='Cases per 100k persons in the last 7 days'\n",
    "\n",
    "plt=matplotlib.pyplot; fig=plt.figure(figsize=(15,15)); gs = fig.add_gridspec(1, 1); ax1 = fig.add_subplot(gs[0, 0])\n",
    "cmap,norm='cool',matplotlib.colors.LogNorm()\n",
    "\n",
    "cax1=ax1.scatter(x=kreise['Population density'], y=kreise['Cases per 100k persons in the last 7 days'],\n",
    "                 c=weights, cmap=cmap, norm=norm,\n",
    "                 marker='o', label=\"All German districts ('Kreise'): Recent incidence versus '%s'\" % X_label)\n",
    "\n",
    "fit_x, fit_y = sorted(kreise['Population density']), sorted((FitFn(X)*FitFn(X)).tolist())\n",
    "\n",
    "ax1.plot(fit_x, fit_y, 'b--', label=\"simple linear regression through (%s) of all these points --> coefficients=(%.4f,%.4f)\" % (title_prefix, coeff[0],coeff[1]))\n",
    "fig.colorbar(cax1, label='Population', orientation='horizontal')\n",
    "\n",
    "ax1.set_xlabel(X_label); ax1.set_ylabel(Y_label)\n",
    "ax1.set_title(TODAY+\" plot of '%s' versus '%s' and simple regression fit\" % (X_label, Y_label))\n",
    "L=ax1.legend(loc=4)\n",
    "\n",
    "matplotlib.pyplot.tight_layout()\n",
    "fname=\"img/populationDensity_vs_incidence_data-and-SQRT-fits_LINLIN.png\" \n",
    "ax1.figure.savefig(fname=fname)\n",
    "print(fname)"
   ]
  },
  {
   "cell_type": "code",
   "execution_count": null,
   "metadata": {},
   "outputs": [],
   "source": [
    "print(\"Sorry, all not modular and cannot be recycled easily, was just a quick'n'dirty attempt\")"
   ]
  },
  {
   "cell_type": "code",
   "execution_count": null,
   "metadata": {},
   "outputs": [],
   "source": []
  }
 ],
 "metadata": {
  "kernelspec": {
   "display_name": "py3science",
   "language": "python",
   "name": "py3science"
  },
  "language_info": {
   "codemirror_mode": {
    "name": "ipython",
    "version": 3
   },
   "file_extension": ".py",
   "mimetype": "text/x-python",
   "name": "python",
   "nbconvert_exporter": "python",
   "pygments_lexer": "ipython3",
   "version": "3.7.3"
  }
 },
 "nbformat": 4,
 "nbformat_minor": 4
}
