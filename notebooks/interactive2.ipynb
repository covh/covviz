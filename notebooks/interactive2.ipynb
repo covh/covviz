{
 "cells": [
  {
   "cell_type": "code",
   "execution_count": null,
   "metadata": {},
   "outputs": [],
   "source": [
    "import sys\n",
    "import pandas\n",
    "sys.path.append(\"..\") \n",
    "sys.path.append(\"../src\") \n",
    "from src import dataFiles, dataMangling, dataPlotting, dataTable"
   ]
  },
  {
   "cell_type": "code",
   "execution_count": null,
   "metadata": {},
   "outputs": [],
   "source": [
    "ts, bnn = dataFiles.data(withSynthetic=True)\n",
    "dates = dataMangling.dates_list(ts)\n",
    "ts_BuLa, Bundeslaender = dataMangling.join_tables_for_and_aggregate_Bundeslaender(ts, bnn)"
   ]
  },
  {
   "cell_type": "code",
   "execution_count": null,
   "metadata": {},
   "outputs": [],
   "source": [
    "\"\\n\".join(ts[ts.ADMIN.isna()][\"AGS\"].tolist())"
   ]
  },
  {
   "cell_type": "code",
   "execution_count": null,
   "metadata": {},
   "outputs": [],
   "source": [
    "Bundeslaender"
   ]
  },
  {
   "cell_type": "code",
   "execution_count": null,
   "metadata": {},
   "outputs": [],
   "source": [
    "daily, cumulative, title, filename, population = dataMangling.get_BuLa(Bundeslaender, \"Hessen\")"
   ]
  },
  {
   "cell_type": "code",
   "execution_count": null,
   "metadata": {},
   "outputs": [],
   "source": [
    "center = dataMangling.temporal_center(daily)[0]\n",
    "center"
   ]
  },
  {
   "cell_type": "code",
   "execution_count": null,
   "metadata": {},
   "outputs": [],
   "source": [
    "dataMangling.temporal_center(dataMangling.get_BuLa(Bundeslaender, \"Hessen\")[0])[0]"
   ]
  },
  {
   "cell_type": "code",
   "execution_count": null,
   "metadata": {},
   "outputs": [],
   "source": [
    "Bundeslaender.index.tolist()"
   ]
  },
  {
   "cell_type": "code",
   "execution_count": null,
   "metadata": {},
   "outputs": [],
   "source": [
    "Bundeslaender[\"centerday\"] = [dataMangling.temporal_center(dataMangling.get_BuLa(Bundeslaender, name)[0])[0]\n",
    "                                  for name in Bundeslaender.index.tolist() ]"
   ]
  },
  {
   "cell_type": "code",
   "execution_count": null,
   "metadata": {},
   "outputs": [],
   "source": [
    "Bundeslaender"
   ]
  },
  {
   "cell_type": "code",
   "execution_count": null,
   "metadata": {},
   "outputs": [],
   "source": [
    "Bundeslaender.sort_values(\"centerday\",inplace=True)"
   ]
  },
  {
   "cell_type": "code",
   "execution_count": null,
   "metadata": {},
   "outputs": [],
   "source": [
    "Bundeslaender"
   ]
  },
  {
   "cell_type": "code",
   "execution_count": null,
   "metadata": {},
   "outputs": [],
   "source": [
    "Bundeslaender.loc['Deutschland'] = Bundeslaender.sum().values.tolist()"
   ]
  },
  {
   "cell_type": "code",
   "execution_count": null,
   "metadata": {},
   "outputs": [],
   "source": [
    "ts"
   ]
  },
  {
   "cell_type": "code",
   "execution_count": null,
   "metadata": {},
   "outputs": [],
   "source": [
    "ts.drop(ts[ts.ADMIN.isna()].index, inplace=True)\n",
    "\n",
    "ts"
   ]
  },
  {
   "cell_type": "code",
   "execution_count": null,
   "metadata": {},
   "outputs": [],
   "source": [
    "import io, sys\n",
    "\n",
    "import pandas\n",
    "import requests\n",
    "\n",
    "sys.path.append(\"..\") \n",
    "sys.path.append(\"../src\") \n",
    "\n",
    "from dataFiles import OPENDATASOFT_URL01, OPENDATASOFT_URL02, DISTANCES_PATH \n",
    "\n",
    "def download_kreise_locations(url1=OPENDATASOFT_URL01, url2=OPENDATASOFT_URL02):\n",
    "    print (\"Downloading large table with Kreise locations. For infos see\")\n",
    "    print (url1)\n",
    "    print (\"Patience please ...\", end=\" \")\n",
    "    s=requests.get(url2).content\n",
    "    LKG=pandas.read_csv(io.StringIO(s.decode('utf-8')), sep=';') # error_bad_lines=False)\n",
    "    # immediately drop non-Kreis row(s)\n",
    "    LKG.dropna(subset=['Cca 2'],inplace=True)\n",
    "    # turn AGS into integer:\n",
    "    LKG[\"Cca 2\"]=LKG[\"Cca 2\"].astype(int)\n",
    "    print (\"Done downloading.\")\n",
    "    return LKG\n",
    "LKG=download_kreise_locations()"
   ]
  },
  {
   "cell_type": "code",
   "execution_count": null,
   "metadata": {},
   "outputs": [],
   "source": [
    "LKG"
   ]
  },
  {
   "cell_type": "code",
   "execution_count": null,
   "metadata": {},
   "outputs": [],
   "source": [
    "# accelerate lookup\n",
    "AGS_to_geopoint=dict(LKG[[\"Cca 2\",\"Geo Point\"]].set_index(\"Cca 2\").to_dict('series')[\"Geo Point\"])\n",
    "AGS_to_geopoint"
   ]
  },
  {
   "cell_type": "code",
   "execution_count": null,
   "metadata": {},
   "outputs": [],
   "source": [
    "import geopy.distance\n",
    "\n",
    "def geo_distance(AGS_to_geopoint, AGS1, AGS2):\n",
    "    c1 = list(map(float,AGS_to_geopoint[AGS1].split(\",\")))\n",
    "    c2 = list(map(float,AGS_to_geopoint[AGS2].split(\",\")))\n",
    "    # print (c1, c2 )\n",
    "    return geopy.distance.geodesic(c1, c2).kilometers\n",
    "\n",
    "print (geo_distance(AGS_to_geopoint, 1001, 1002))"
   ]
  },
  {
   "cell_type": "code",
   "execution_count": null,
   "metadata": {},
   "outputs": [],
   "source": []
  },
  {
   "cell_type": "code",
   "execution_count": null,
   "metadata": {},
   "outputs": [],
   "source": [
    "def make_distances_table(AGS_to_geopoint, all_AGS, filename=DISTANCES_PATH):\n",
    "    headers = ['AGS1','AGS2','km']\n",
    "    counter,countermax=0, len(all_AGS)*(len(all_AGS)-1)\n",
    "    distances=pandas.DataFrame([], columns = headers)\n",
    "    for AGS1 in all_AGS:\n",
    "        for AGS2 in all_AGS:\n",
    "            if AGS1>=AGS2:\n",
    "                continue\n",
    "            geodist = geo_distance(AGS_to_geopoint, AGS1, AGS2)\n",
    "            row=pandas.Series([AGS1, AGS2, geodist], index=headers)\n",
    "            distances=distances.append(row, ignore_index=True)\n",
    "            row=pandas.Series([AGS2, AGS1, geodist], index=headers)\n",
    "            distances=distances.append(row, ignore_index=True)\n",
    "            counter+=2\n",
    "            if not counter%100:\n",
    "                print (counter, \"/\", countermax)\n",
    "\n",
    "    print (\"Done calculating distances. Len(table)=%d\" % len(distances))\n",
    "\n",
    "    distances[\"AGS1\"]=distances[\"AGS1\"].astype(int)\n",
    "    distances[\"AGS2\"]=distances[\"AGS2\"].astype(int)\n",
    "        \n",
    "    print (\"Distances are distributed like this:\")\n",
    "    print(distances[\"km\"].describe())\n",
    "    \n",
    "    distances.sort_values(\"km\", inplace=True)\n",
    "    print(\"Done sorting.\")\n",
    "    \n",
    "    distances.to_csv(filename)\n",
    "    print (\"Saved to\", filename)\n",
    "    return distances, filename\n",
    "\n",
    "all_AGS=LKG[\"Cca 2\"].dropna().astype(int).tolist()\n",
    "# all_AGS=all_AGS[:20] # reduce number for dev'ing\n",
    "print(all_AGS)\n",
    "print()\n",
    "\n",
    "distances, filename = make_distances_table(AGS_to_geopoint, all_AGS)\n",
    "distances"
   ]
  },
  {
   "cell_type": "code",
   "execution_count": null,
   "metadata": {},
   "outputs": [],
   "source": [
    "distances"
   ]
  },
  {
   "cell_type": "code",
   "execution_count": null,
   "metadata": {},
   "outputs": [],
   "source": [
    "(distances[(distances.km<150) & (distances.AGS1==9371)])"
   ]
  },
  {
   "cell_type": "code",
   "execution_count": null,
   "metadata": {},
   "outputs": [],
   "source": [
    "import sys\n",
    "sys.path.append(\"..\") \n",
    "sys.path.append(\"../src\") \n",
    "import dataFiles, dataMangling, dataPlotting, districtDistances\n",
    "distances = districtDistances.load_distances()\n",
    "print (districtDistances.nearby(distances, 1001, 50))\n"
   ]
  },
  {
   "cell_type": "code",
   "execution_count": null,
   "metadata": {},
   "outputs": [],
   "source": [
    "distances[(distances.km<=50)]"
   ]
  },
  {
   "cell_type": "code",
   "execution_count": null,
   "metadata": {},
   "outputs": [],
   "source": [
    "ts, bnn = dataFiles.data(withSynthetic=True)"
   ]
  },
  {
   "cell_type": "code",
   "execution_count": null,
   "metadata": {},
   "outputs": [],
   "source": [
    "bnn.BEZ.unique()"
   ]
  },
  {
   "cell_type": "code",
   "execution_count": null,
   "metadata": {},
   "outputs": [],
   "source": [
    "LKG"
   ]
  },
  {
   "cell_type": "code",
   "execution_count": null,
   "metadata": {},
   "outputs": [],
   "source": [
    "def compare_risklayer_with_opendatasoft(bnn):\n",
    "    filename = dataFiles.OPENDATASOFT_PATH\n",
    "    LKG = districtDistances.load_kreise_locations(filename)\n",
    "    ODS = set(LKG[\"Cca 2\"].tolist())\n",
    "    ts, bnn = dataFiles.data(withSynthetic=True)\n",
    "    RSL=set(bnn[\"AGS\"].values.tolist())\n",
    "    \n",
    "    diff1 = list(ODS-RSL)\n",
    "    names1=([LKG[\"Name 2\"][LKG[\"Cca 2\"]==AGS].tolist()[0] for AGS in diff1])\n",
    "    print (\"ODS-RSL: %s = %s\"% (diff1, names1))\n",
    "    diff2 = list(RSL-ODS)\n",
    "    names2=([bnn[\"GEN\"][bnn[\"AGS\"]==AGS].tolist()[0] for AGS in diff2])\n",
    "    print (\"RSL-ODS: %s = %s\"% (diff2, names2))\n",
    "compare_risklayer_with_opendatasoft(bnn)"
   ]
  },
  {
   "cell_type": "code",
   "execution_count": null,
   "metadata": {},
   "outputs": [],
   "source": [
    "i=LKG[LKG[\"Cca 2\"]==3152].index.tolist()\n",
    "if i:\n",
    "    LKG.at[i, \"Cca 2\"] = 3159"
   ]
  },
  {
   "cell_type": "code",
   "execution_count": null,
   "metadata": {},
   "outputs": [],
   "source": [
    "LKG.loc[i]"
   ]
  },
  {
   "cell_type": "code",
   "execution_count": null,
   "metadata": {},
   "outputs": [],
   "source": [
    "i=LKG[LKG[\"Cca 2\"]==3156].index.tolist()\n",
    "if i:\n",
    "    LKG.drop(index=i, inplace=True)"
   ]
  },
  {
   "cell_type": "code",
   "execution_count": null,
   "metadata": {},
   "outputs": [],
   "source": [
    "LKG[(LKG[\"Cca 2\"]> 3150) & (LKG[\"Cca 2\"]< 3161)]"
   ]
  },
  {
   "cell_type": "code",
   "execution_count": null,
   "metadata": {},
   "outputs": [],
   "source": [
    "a=[0.0, 0.0, 0.0, 0.0, 0.0, 0.0, 0.0, 0.0, 0.0, 0.0, 0.0, 9.0]\n",
    "list(map(int, a))"
   ]
  },
  {
   "cell_type": "code",
   "execution_count": null,
   "metadata": {},
   "outputs": [],
   "source": [
    "import sys\n",
    "sys.path.append(\"..\") \n",
    "sys.path.append(\"../src\") \n",
    "import dataFiles, dataMangling, dataPlotting, districtDistances,dataTable\n",
    "ts, bnn, ts_sorted, Bundeslaender_sorted, dates, datacolumns = dataMangling.dataMangled()\n",
    "distances = districtDistances.load_distances()\n",
    "cmap = dataTable.colormap()\n"
   ]
  },
  {
   "cell_type": "code",
   "execution_count": null,
   "metadata": {},
   "outputs": [],
   "source": [
    "Bundeslaender_sorted.index.tolist()\n"
   ]
  },
  {
   "cell_type": "code",
   "execution_count": null,
   "metadata": {},
   "outputs": [],
   "source": [
    "DE=Bundeslaender_sorted.drop([\"Deutschland\", \"Dummyland\"]).sum()\n",
    "DE[datacolumns].astype(int).tolist()"
   ]
  },
  {
   "cell_type": "code",
   "execution_count": null,
   "metadata": {},
   "outputs": [],
   "source": [
    "DE = Bundeslaender_sorted.sum()"
   ]
  },
  {
   "cell_type": "code",
   "execution_count": null,
   "metadata": {},
   "outputs": [],
   "source": [
    "DE[\"Population\"]"
   ]
  },
  {
   "cell_type": "code",
   "execution_count": 24,
   "metadata": {},
   "outputs": [
    {
     "data": {
      "text/plain": [
       "'../data/GermanyValues_RiskLayer.csv'"
      ]
     },
     "execution_count": 24,
     "metadata": {},
     "output_type": "execute_result"
    }
   ],
   "source": [
    "import sys\n",
    "import pandas\n",
    "sys.path.append(\"..\") \n",
    "sys.path.append(\"../src\") \n",
    "import dataFiles, dataMangling, dataPlotting, districtDistances,dataTable\n",
    "dataFiles.TS_NEWEST"
   ]
  },
  {
   "cell_type": "code",
   "execution_count": 27,
   "metadata": {},
   "outputs": [],
   "source": [
    "ts=pandas.read_csv(dataFiles.TS_NEWEST, encoding='cp1252') # encoding='utf-8')"
   ]
  },
  {
   "cell_type": "code",
   "execution_count": 28,
   "metadata": {},
   "outputs": [
    {
     "data": {
      "text/html": [
       "<div>\n",
       "<style scoped>\n",
       "    .dataframe tbody tr th:only-of-type {\n",
       "        vertical-align: middle;\n",
       "    }\n",
       "\n",
       "    .dataframe tbody tr th {\n",
       "        vertical-align: top;\n",
       "    }\n",
       "\n",
       "    .dataframe thead th {\n",
       "        text-align: right;\n",
       "    }\n",
       "</style>\n",
       "<table border=\"1\" class=\"dataframe\">\n",
       "  <thead>\n",
       "    <tr style=\"text-align: right;\">\n",
       "      <th></th>\n",
       "      <th>AGS</th>\n",
       "      <th>ADMIN</th>\n",
       "      <th>05.03.2020</th>\n",
       "      <th>06.03.2020</th>\n",
       "      <th>07.03.2020</th>\n",
       "      <th>08.03.2020</th>\n",
       "      <th>09.03.2020</th>\n",
       "      <th>10.03.2020</th>\n",
       "      <th>11.03.2020</th>\n",
       "      <th>12.03.20203</th>\n",
       "      <th>...</th>\n",
       "      <th>20.04.2020</th>\n",
       "      <th>21.04.2020</th>\n",
       "      <th>22.04.2020</th>\n",
       "      <th>23.04.2020</th>\n",
       "      <th>24.04.2020</th>\n",
       "      <th>25.04.2020</th>\n",
       "      <th>26.04.2020</th>\n",
       "      <th>27.04.2020</th>\n",
       "      <th>28.04.2020</th>\n",
       "      <th>29.04.2020</th>\n",
       "    </tr>\n",
       "  </thead>\n",
       "  <tbody>\n",
       "    <tr>\n",
       "      <th>0</th>\n",
       "      <td>07131</td>\n",
       "      <td>Ahrweiler (Landkreis)</td>\n",
       "      <td>0.0</td>\n",
       "      <td>0.0</td>\n",
       "      <td>0.0</td>\n",
       "      <td>0.0</td>\n",
       "      <td>0.0</td>\n",
       "      <td>0.0</td>\n",
       "      <td>0.0</td>\n",
       "      <td>0.0</td>\n",
       "      <td>...</td>\n",
       "      <td>115.0</td>\n",
       "      <td>115.0</td>\n",
       "      <td>116.0</td>\n",
       "      <td>116.0</td>\n",
       "      <td>118.0</td>\n",
       "      <td>118.0</td>\n",
       "      <td>118.0</td>\n",
       "      <td>118.0</td>\n",
       "      <td>118.0</td>\n",
       "      <td>121.0</td>\n",
       "    </tr>\n",
       "    <tr>\n",
       "      <th>1</th>\n",
       "      <td>09771</td>\n",
       "      <td>Aichach-Friedberg (Landkreis)</td>\n",
       "      <td>1.0</td>\n",
       "      <td>1.0</td>\n",
       "      <td>1.0</td>\n",
       "      <td>1.0</td>\n",
       "      <td>1.0</td>\n",
       "      <td>1.0</td>\n",
       "      <td>1.0</td>\n",
       "      <td>2.0</td>\n",
       "      <td>...</td>\n",
       "      <td>262.0</td>\n",
       "      <td>272.0</td>\n",
       "      <td>273.0</td>\n",
       "      <td>278.0</td>\n",
       "      <td>278.0</td>\n",
       "      <td>283.0</td>\n",
       "      <td>283.0</td>\n",
       "      <td>287.0</td>\n",
       "      <td>288.0</td>\n",
       "      <td>293.0</td>\n",
       "    </tr>\n",
       "    <tr>\n",
       "      <th>2</th>\n",
       "      <td>08425</td>\n",
       "      <td>Alb-Donau-Kreis (Landkreis)</td>\n",
       "      <td>2.0</td>\n",
       "      <td>2.0</td>\n",
       "      <td>2.0</td>\n",
       "      <td>3.0</td>\n",
       "      <td>3.0</td>\n",
       "      <td>3.0</td>\n",
       "      <td>3.0</td>\n",
       "      <td>6.0</td>\n",
       "      <td>...</td>\n",
       "      <td>495.0</td>\n",
       "      <td>489.0</td>\n",
       "      <td>501.0</td>\n",
       "      <td>514.0</td>\n",
       "      <td>526.0</td>\n",
       "      <td>533.0</td>\n",
       "      <td>536.0</td>\n",
       "      <td>537.0</td>\n",
       "      <td>537.0</td>\n",
       "      <td>545.0</td>\n",
       "    </tr>\n",
       "    <tr>\n",
       "      <th>3</th>\n",
       "      <td>16077</td>\n",
       "      <td>Altenburger Land (Landkreis)</td>\n",
       "      <td>0.0</td>\n",
       "      <td>0.0</td>\n",
       "      <td>0.0</td>\n",
       "      <td>0.0</td>\n",
       "      <td>0.0</td>\n",
       "      <td>0.0</td>\n",
       "      <td>0.0</td>\n",
       "      <td>0.0</td>\n",
       "      <td>...</td>\n",
       "      <td>41.0</td>\n",
       "      <td>45.0</td>\n",
       "      <td>45.0</td>\n",
       "      <td>45.0</td>\n",
       "      <td>47.0</td>\n",
       "      <td>47.0</td>\n",
       "      <td>47.0</td>\n",
       "      <td>47.0</td>\n",
       "      <td>47.0</td>\n",
       "      <td>48.0</td>\n",
       "    </tr>\n",
       "    <tr>\n",
       "      <th>4</th>\n",
       "      <td>07132</td>\n",
       "      <td>Altenkirchen (Westerwald) (Landkreis)</td>\n",
       "      <td>0.0</td>\n",
       "      <td>0.0</td>\n",
       "      <td>0.0</td>\n",
       "      <td>0.0</td>\n",
       "      <td>0.0</td>\n",
       "      <td>0.0</td>\n",
       "      <td>0.0</td>\n",
       "      <td>0.0</td>\n",
       "      <td>...</td>\n",
       "      <td>128.0</td>\n",
       "      <td>128.0</td>\n",
       "      <td>128.0</td>\n",
       "      <td>134.0</td>\n",
       "      <td>137.0</td>\n",
       "      <td>138.0</td>\n",
       "      <td>138.0</td>\n",
       "      <td>143.0</td>\n",
       "      <td>144.0</td>\n",
       "      <td>145.0</td>\n",
       "    </tr>\n",
       "    <tr>\n",
       "      <th>...</th>\n",
       "      <td>...</td>\n",
       "      <td>...</td>\n",
       "      <td>...</td>\n",
       "      <td>...</td>\n",
       "      <td>...</td>\n",
       "      <td>...</td>\n",
       "      <td>...</td>\n",
       "      <td>...</td>\n",
       "      <td>...</td>\n",
       "      <td>...</td>\n",
       "      <td>...</td>\n",
       "      <td>...</td>\n",
       "      <td>...</td>\n",
       "      <td>...</td>\n",
       "      <td>...</td>\n",
       "      <td>...</td>\n",
       "      <td>...</td>\n",
       "      <td>...</td>\n",
       "      <td>...</td>\n",
       "      <td>...</td>\n",
       "      <td>...</td>\n",
       "    </tr>\n",
       "    <tr>\n",
       "      <th>399</th>\n",
       "      <td>07320</td>\n",
       "      <td>Zweibrücken (Kreisfreie Stadt)</td>\n",
       "      <td>0.0</td>\n",
       "      <td>0.0</td>\n",
       "      <td>0.0</td>\n",
       "      <td>0.0</td>\n",
       "      <td>0.0</td>\n",
       "      <td>0.0</td>\n",
       "      <td>0.0</td>\n",
       "      <td>0.0</td>\n",
       "      <td>...</td>\n",
       "      <td>37.0</td>\n",
       "      <td>37.0</td>\n",
       "      <td>37.0</td>\n",
       "      <td>37.0</td>\n",
       "      <td>37.0</td>\n",
       "      <td>37.0</td>\n",
       "      <td>37.0</td>\n",
       "      <td>37.0</td>\n",
       "      <td>37.0</td>\n",
       "      <td>37.0</td>\n",
       "    </tr>\n",
       "    <tr>\n",
       "      <th>400</th>\n",
       "      <td>14524</td>\n",
       "      <td>Zwickau (Landkreis)</td>\n",
       "      <td>0.0</td>\n",
       "      <td>0.0</td>\n",
       "      <td>0.0</td>\n",
       "      <td>0.0</td>\n",
       "      <td>0.0</td>\n",
       "      <td>0.0</td>\n",
       "      <td>0.0</td>\n",
       "      <td>0.0</td>\n",
       "      <td>...</td>\n",
       "      <td>697.0</td>\n",
       "      <td>707.0</td>\n",
       "      <td>709.0</td>\n",
       "      <td>717.0</td>\n",
       "      <td>724.0</td>\n",
       "      <td>730.0</td>\n",
       "      <td>738.0</td>\n",
       "      <td>738.0</td>\n",
       "      <td>741.0</td>\n",
       "      <td>745.0</td>\n",
       "    </tr>\n",
       "    <tr>\n",
       "      <th>401</th>\n",
       "      <td>Data can be used for reproduction with attribu...</td>\n",
       "      <td>NaN</td>\n",
       "      <td>NaN</td>\n",
       "      <td>NaN</td>\n",
       "      <td>NaN</td>\n",
       "      <td>NaN</td>\n",
       "      <td>NaN</td>\n",
       "      <td>NaN</td>\n",
       "      <td>NaN</td>\n",
       "      <td>NaN</td>\n",
       "      <td>...</td>\n",
       "      <td>NaN</td>\n",
       "      <td>NaN</td>\n",
       "      <td>NaN</td>\n",
       "      <td>NaN</td>\n",
       "      <td>NaN</td>\n",
       "      <td>NaN</td>\n",
       "      <td>NaN</td>\n",
       "      <td>NaN</td>\n",
       "      <td>NaN</td>\n",
       "      <td>NaN</td>\n",
       "    </tr>\n",
       "    <tr>\n",
       "      <th>402</th>\n",
       "      <td>Data sources can be found under https://docs.g...</td>\n",
       "      <td>NaN</td>\n",
       "      <td>NaN</td>\n",
       "      <td>NaN</td>\n",
       "      <td>NaN</td>\n",
       "      <td>NaN</td>\n",
       "      <td>NaN</td>\n",
       "      <td>NaN</td>\n",
       "      <td>NaN</td>\n",
       "      <td>NaN</td>\n",
       "      <td>...</td>\n",
       "      <td>NaN</td>\n",
       "      <td>NaN</td>\n",
       "      <td>NaN</td>\n",
       "      <td>NaN</td>\n",
       "      <td>NaN</td>\n",
       "      <td>NaN</td>\n",
       "      <td>NaN</td>\n",
       "      <td>NaN</td>\n",
       "      <td>NaN</td>\n",
       "      <td>NaN</td>\n",
       "    </tr>\n",
       "    <tr>\n",
       "      <th>403</th>\n",
       "      <td>Authors: James Daniell| Johannes Brand| Andrea...</td>\n",
       "      <td>NaN</td>\n",
       "      <td>NaN</td>\n",
       "      <td>NaN</td>\n",
       "      <td>NaN</td>\n",
       "      <td>NaN</td>\n",
       "      <td>NaN</td>\n",
       "      <td>NaN</td>\n",
       "      <td>NaN</td>\n",
       "      <td>NaN</td>\n",
       "      <td>...</td>\n",
       "      <td>NaN</td>\n",
       "      <td>NaN</td>\n",
       "      <td>NaN</td>\n",
       "      <td>NaN</td>\n",
       "      <td>NaN</td>\n",
       "      <td>NaN</td>\n",
       "      <td>NaN</td>\n",
       "      <td>NaN</td>\n",
       "      <td>NaN</td>\n",
       "      <td>NaN</td>\n",
       "    </tr>\n",
       "  </tbody>\n",
       "</table>\n",
       "<p>404 rows × 58 columns</p>\n",
       "</div>"
      ],
      "text/plain": [
       "                                                   AGS  \\\n",
       "0                                                07131   \n",
       "1                                                09771   \n",
       "2                                                08425   \n",
       "3                                                16077   \n",
       "4                                                07132   \n",
       "..                                                 ...   \n",
       "399                                              07320   \n",
       "400                                              14524   \n",
       "401  Data can be used for reproduction with attribu...   \n",
       "402  Data sources can be found under https://docs.g...   \n",
       "403  Authors: James Daniell| Johannes Brand| Andrea...   \n",
       "\n",
       "                                     ADMIN  05.03.2020  06.03.2020  \\\n",
       "0                    Ahrweiler (Landkreis)         0.0         0.0   \n",
       "1            Aichach-Friedberg (Landkreis)         1.0         1.0   \n",
       "2              Alb-Donau-Kreis (Landkreis)         2.0         2.0   \n",
       "3             Altenburger Land (Landkreis)         0.0         0.0   \n",
       "4    Altenkirchen (Westerwald) (Landkreis)         0.0         0.0   \n",
       "..                                     ...         ...         ...   \n",
       "399         Zweibrücken (Kreisfreie Stadt)         0.0         0.0   \n",
       "400                    Zwickau (Landkreis)         0.0         0.0   \n",
       "401                                    NaN         NaN         NaN   \n",
       "402                                    NaN         NaN         NaN   \n",
       "403                                    NaN         NaN         NaN   \n",
       "\n",
       "     07.03.2020  08.03.2020  09.03.2020  10.03.2020  11.03.2020  12.03.20203  \\\n",
       "0           0.0         0.0         0.0         0.0         0.0          0.0   \n",
       "1           1.0         1.0         1.0         1.0         1.0          2.0   \n",
       "2           2.0         3.0         3.0         3.0         3.0          6.0   \n",
       "3           0.0         0.0         0.0         0.0         0.0          0.0   \n",
       "4           0.0         0.0         0.0         0.0         0.0          0.0   \n",
       "..          ...         ...         ...         ...         ...          ...   \n",
       "399         0.0         0.0         0.0         0.0         0.0          0.0   \n",
       "400         0.0         0.0         0.0         0.0         0.0          0.0   \n",
       "401         NaN         NaN         NaN         NaN         NaN          NaN   \n",
       "402         NaN         NaN         NaN         NaN         NaN          NaN   \n",
       "403         NaN         NaN         NaN         NaN         NaN          NaN   \n",
       "\n",
       "     ...  20.04.2020  21.04.2020  22.04.2020  23.04.2020  24.04.2020  \\\n",
       "0    ...       115.0       115.0       116.0       116.0       118.0   \n",
       "1    ...       262.0       272.0       273.0       278.0       278.0   \n",
       "2    ...       495.0       489.0       501.0       514.0       526.0   \n",
       "3    ...        41.0        45.0        45.0        45.0        47.0   \n",
       "4    ...       128.0       128.0       128.0       134.0       137.0   \n",
       "..   ...         ...         ...         ...         ...         ...   \n",
       "399  ...        37.0        37.0        37.0        37.0        37.0   \n",
       "400  ...       697.0       707.0       709.0       717.0       724.0   \n",
       "401  ...         NaN         NaN         NaN         NaN         NaN   \n",
       "402  ...         NaN         NaN         NaN         NaN         NaN   \n",
       "403  ...         NaN         NaN         NaN         NaN         NaN   \n",
       "\n",
       "     25.04.2020  26.04.2020  27.04.2020  28.04.2020  29.04.2020  \n",
       "0         118.0       118.0       118.0       118.0       121.0  \n",
       "1         283.0       283.0       287.0       288.0       293.0  \n",
       "2         533.0       536.0       537.0       537.0       545.0  \n",
       "3          47.0        47.0        47.0        47.0        48.0  \n",
       "4         138.0       138.0       143.0       144.0       145.0  \n",
       "..          ...         ...         ...         ...         ...  \n",
       "399        37.0        37.0        37.0        37.0        37.0  \n",
       "400       730.0       738.0       738.0       741.0       745.0  \n",
       "401         NaN         NaN         NaN         NaN         NaN  \n",
       "402         NaN         NaN         NaN         NaN         NaN  \n",
       "403         NaN         NaN         NaN         NaN         NaN  \n",
       "\n",
       "[404 rows x 58 columns]"
      ]
     },
     "execution_count": 28,
     "metadata": {},
     "output_type": "execute_result"
    }
   ],
   "source": [
    "ts"
   ]
  },
  {
   "cell_type": "code",
   "execution_count": null,
   "metadata": {},
   "outputs": [],
   "source": []
  }
 ],
 "metadata": {
  "kernelspec": {
   "display_name": "py3science",
   "language": "python",
   "name": "py3science"
  },
  "language_info": {
   "codemirror_mode": {
    "name": "ipython",
    "version": 3
   },
   "file_extension": ".py",
   "mimetype": "text/x-python",
   "name": "python",
   "nbconvert_exporter": "python",
   "pygments_lexer": "ipython3",
   "version": "3.7.3"
  }
 },
 "nbformat": 4,
 "nbformat_minor": 4
}
