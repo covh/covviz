{
 "cells": [
  {
   "cell_type": "code",
   "execution_count": null,
   "metadata": {},
   "outputs": [],
   "source": [
    "import sys\n",
    "import numpy,matplotlib,pandas\n",
    "sys.path.append(\"..\") \n",
    "sys.path.append(\"../src\") \n",
    "import dataFiles, dataMangling, dataPlotting, districtDistances,dataTable\n",
    "dm = dataMangling.dataMangled()"
   ]
  },
  {
   "cell_type": "code",
   "execution_count": null,
   "metadata": {},
   "outputs": [],
   "source": [
    "# dataPlotting.test_plot_Kreis(ts, bnn, dates, datacolumns)"
   ]
  },
  {
   "cell_type": "code",
   "execution_count": null,
   "metadata": {},
   "outputs": [],
   "source": []
  },
  {
   "cell_type": "code",
   "execution_count": null,
   "metadata": {},
   "outputs": [],
   "source": [
    "AGS = \"0\"\n",
    "AGS = \"1001\"\n",
    "AGS = \"5370\"\n",
    "AGS = \"9377\"\n",
    "dstr = dataMangling.get_Kreis(AGS)\n",
    "dstr.filename = None\n",
    "plt, fig, ax, ax2  = dataPlotting.plot_timeseries(dm, dstr, ifShow=False, ifCleanup=False)\n"
   ]
  },
  {
   "cell_type": "code",
   "execution_count": null,
   "metadata": {},
   "outputs": [],
   "source": [
    "import pandas as pd\n",
    "url='https://en.wikipedia.org/wiki/List_of_postal_codes_of_Canada:_M'\n",
    "url='https://de.wikipedia.org/wiki/Liste_der_Landkreise_in_Deutschland'\n",
    "\n",
    "df=pd.read_html(url, header=0)[0]\n",
    "\n",
    "df.head()"
   ]
  },
  {
   "cell_type": "code",
   "execution_count": null,
   "metadata": {},
   "outputs": [],
   "source": [
    "import pandas as pd\n",
    "import requests\n",
    "from bs4 import BeautifulSoup\n",
    "\n",
    "url = 'http://www.vru.gov.ua/act_list'\n",
    "url='https://de.wikipedia.org/wiki/Liste_der_Landkreise_in_Deutschland'\n",
    "df = pd.read_html(url)[0]\n",
    "print (len(df))\n",
    "\n",
    "response = requests.get(url)\n",
    "soup = BeautifulSoup(response.text, 'html.parser')\n",
    "table = soup.find('table')\n",
    "\n",
    "pics = []\n",
    "for tr in table.findAll(\"tr\"):\n",
    "    srcs=[]\n",
    "    trs = tr.findAll(\"td\")\n",
    "    for each in trs:\n",
    "        try:\n",
    "            link = each.find('img')['src']\n",
    "            srcs.append(link)\n",
    "        except:\n",
    "            pass\n",
    "    links.append(srcs)\n",
    "\n",
    "print (len(links))\n",
    "# df['Link'] = links\n",
    "# links\n",
    "# df\n",
    "links"
   ]
  },
  {
   "cell_type": "code",
   "execution_count": null,
   "metadata": {},
   "outputs": [],
   "source": [
    "def get_wikipedia_landkreise_table(url='https://de.wikipedia.org/wiki/Liste_der_Landkreise_in_Deutschland', \n",
    "                                   filename=\"wikipedia.csv\"):\n",
    "    import bs4 as bs\n",
    "    import pandas as pd\n",
    "\n",
    "    columns=['AGS', 'Kreis', 'Kreis_WP', 'KreisSitz', 'KreisSitz_WP', 'Einwohner', 'Fläche', 'Karte']\n",
    "    df = pd.DataFrame(columns=columns)\n",
    "\n",
    "    f = requests.get(url).text\n",
    "    soup = bs.BeautifulSoup(f, 'lxml')\n",
    "    parsed_table = soup.find_all('table')[0]\n",
    "\n",
    "\n",
    "    for row in parsed_table.find_all('tr'):\n",
    "        cells = list(row.find_all('td'))\n",
    "        if cells:\n",
    "            AGS=list(cells[0].stripped_strings)[0]\n",
    "\n",
    "            lk=(list(cells[1].stripped_strings))[0]\n",
    "            lk_wp = cells[1].a['href']\n",
    "\n",
    "            lk_hs= (list(cells[4].stripped_strings))[0]\n",
    "            lk_hs_wp = cells[4].a['href']\n",
    "\n",
    "            lk_ew = int((list(cells[5].stripped_strings))[0].replace(\".\", \"\"))\n",
    "\n",
    "            lk_fl_de = (list(cells[6].stripped_strings))[0]\n",
    "            lk_fl = float(lk_fl_de.replace(\".\", \"\").replace(\".\", \"\").replace(\",\", \".\"))\n",
    "\n",
    "            lk_pic = cells[8].img['src']\n",
    "            \n",
    "            datarow = [AGS, lk, lk_wp, lk_hs, lk_hs_wp, lk_ew, lk_fl, lk_pic]\n",
    "            df=df.append(pd.DataFrame([datarow], columns=columns)) \n",
    "            \n",
    "    df.to_csv(filename, index=False)\n",
    "    return df\n",
    "df=get_wikipedia_landkreise_table()\n",
    "print(df.describe())\n",
    "print(\"sum:\\n\", df[[\"Einwohner\", \"Fläche\"]].sum())"
   ]
  },
  {
   "cell_type": "code",
   "execution_count": null,
   "metadata": {},
   "outputs": [],
   "source": [
    "import math\n",
    "for N in range(1, 33):\n",
    "    w=math.ceil(math.sqrt(N))\n",
    "    h=math.ceil(N/w)\n",
    "    print (\"table of %d elements, shape: %d x %d which leaves %d empty\" %(N, w, h, w*h-N))\n",
    "    "
   ]
  },
  {
   "cell_type": "code",
   "execution_count": null,
   "metadata": {},
   "outputs": [],
   "source": []
  }
 ],
 "metadata": {
  "kernelspec": {
   "display_name": "py3science",
   "language": "python",
   "name": "py3science"
  },
  "language_info": {
   "codemirror_mode": {
    "name": "ipython",
    "version": 3
   },
   "file_extension": ".py",
   "mimetype": "text/x-python",
   "name": "python",
   "nbconvert_exporter": "python",
   "pygments_lexer": "ipython3",
   "version": "3.7.3"
  }
 },
 "nbformat": 4,
 "nbformat_minor": 4
}