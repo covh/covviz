{
 "cells": [
  {
   "cell_type": "code",
   "execution_count": null,
   "metadata": {
    "scrolled": true
   },
   "outputs": [],
   "source": [
    "import sys\n",
    "import numpy, matplotlib, pandas\n",
    "sys.path.append(\"..\") \n",
    "sys.path.append(\"../src\") \n",
    "import dataFiles, dataMangling, dataPlotting, districtDistances,dataTable\n",
    "ts, bnn, ts_sorted, Bundeslaender_sorted, dates, datacolumns = dataMangling.dataMangled()"
   ]
  },
  {
   "cell_type": "code",
   "execution_count": null,
   "metadata": {
    "scrolled": true
   },
   "outputs": [],
   "source": [
    "HAUPT_FILES=dataFiles.HAUPT_FILES"
   ]
  },
  {
   "cell_type": "code",
   "execution_count": null,
   "metadata": {
    "scrolled": true
   },
   "outputs": [],
   "source": [
    "# naming 'Haupt' (in case they reorder their sheets, then gid=0 would point to the wrong one!)\n",
    "# for syntax see https://stackoverflow.com/a/33727897\n",
    "#     and https://developers.google.com/chart/interactive/docs/spreadsheets#query-source-ranges\n",
    "# \n",
    "# https://docs.google.com/spreadsheets/d/1EZNqMVK6hCccMw4pq-4T30ADJoayulgx9f98Vui7Jmc/gviz/tq?tqx=out:csv&range=A5:AU406&sheet=Haupt\n",
    "GoogleDocs_ToCSV_WithSheetname=\"https://docs.google.com/spreadsheets/d/%s/gviz/tq?tqx=out:csv&range=%s&sheet=%s\"\n",
    "sheetID = \"1wg-s4_Lz2Stil6spQEYFdZaBEp8nWW26gVyfHqvcl8s\" # Risklayer master\n",
    "sheetID = \"1EZNqMVK6hCccMw4pq-4T30ADJoayulgx9f98Vui7Jmc\" # last night snapshot\n",
    "\n",
    "\n",
    "risklayer_sheet_url = GoogleDocs_ToCSV_WithSheetname % (sheetID, \"A5:AU406\", \"Haupt\")\n",
    "print (risklayer_sheet_url)\n",
    "df=pandas.read_csv(risklayer_sheet_url) # error_bad_lines=False)\n",
    "df.index=df.AGS.tolist() # index == AGS, easier access\n",
    "print(df.columns.tolist())\n",
    "df"
   ]
  },
  {
   "cell_type": "code",
   "execution_count": null,
   "metadata": {
    "scrolled": true
   },
   "outputs": [],
   "source": [
    "def save_haupt(df, filestump=HAUPT_FILES):\n",
    "    lastEntry=pandas.to_datetime(df.Zeit).max()\n",
    "    timestamp=lastEntry.strftime(\"%Y%m%d_%H%M\")\n",
    "    filename1=filestump % (\"-\" + timestamp)\n",
    "    df.to_csv(filename1, index=False)\n",
    "    print(filename1)\n",
    "    filename2=filestump % \"\"\n",
    "    df.to_csv(filename2, index=False)\n",
    "    print(filename2)\n",
    "    return filename1, filename2\n",
    "\n",
    "save_haupt(df)"
   ]
  },
  {
   "cell_type": "code",
   "execution_count": null,
   "metadata": {
    "scrolled": true
   },
   "outputs": [],
   "source": [
    "# now if I wanted to, I could also update the \"bnn\" data\n",
    "# but we are only using the \"population\" column anyways\n",
    "pandas.read_csv(GoogleDocs_ToCSV_WithSheetname % (sheetID, \"A1:L402\", \"bnn\"))"
   ]
  },
  {
   "cell_type": "code",
   "execution_count": null,
   "metadata": {
    "scrolled": true
   },
   "outputs": [],
   "source": []
  },
  {
   "cell_type": "code",
   "execution_count": null,
   "metadata": {
    "scrolled": true
   },
   "outputs": [],
   "source": [
    "haupt = dataFiles.load_master_sheet_haupt(timestamp=\"\");"
   ]
  },
  {
   "cell_type": "code",
   "execution_count": null,
   "metadata": {
    "scrolled": true
   },
   "outputs": [],
   "source": [
    "haupt"
   ]
  },
  {
   "cell_type": "code",
   "execution_count": null,
   "metadata": {
    "scrolled": true
   },
   "outputs": [],
   "source": [
    "haupt[[\"Quelle 1\", \"Gestrige Quellen\"]]\n",
    "(haupt[haupt[\"Quelle 1\"]!=haupt[\"Gestrige Quellen\"]])[[\"AGS\", \"GEN\", \"Quelle 1\", \"Gestrige Quellen\"]]"
   ]
  },
  {
   "cell_type": "code",
   "execution_count": null,
   "metadata": {
    "scrolled": true
   },
   "outputs": [],
   "source": [
    "from IPython.core.display import display, HTML\n",
    "display(HTML(\"<style>.container { width:100% !important; }</style>\"))"
   ]
  },
  {
   "cell_type": "code",
   "execution_count": null,
   "metadata": {
    "scrolled": true
   },
   "outputs": [],
   "source": [
    "# print (haupt.columns)\n",
    "websources = ['AGS', 'Quelle 1', 'Gestrige Quellen', 'Quelle (Sollte nur Landesamt, Gesundheitsamt oder offiziell sein)', 'TWITTER', 'FACEBOOK/INSTAGRAM', 'Names']\n",
    "web=haupt[websources]\n",
    "web.index=web.AGS\n",
    "web=web.copy()\n",
    "web"
   ]
  },
  {
   "cell_type": "code",
   "execution_count": null,
   "metadata": {
    "scrolled": true
   },
   "outputs": [],
   "source": [
    "web[\"urls\"]= [list(set( [url for url in urllist if url!=\"\"] )) for urllist in web[websources[1:]].fillna(\"\").values.tolist()] \n",
    "web.loc[5370] [\"urls\"]"
   ]
  },
  {
   "cell_type": "code",
   "execution_count": null,
   "metadata": {
    "scrolled": true
   },
   "outputs": [],
   "source": []
  },
  {
   "cell_type": "code",
   "execution_count": null,
   "metadata": {
    "scrolled": true
   },
   "outputs": [],
   "source": []
  }
 ],
 "metadata": {
  "kernelspec": {
   "display_name": "py3science",
   "language": "python",
   "name": "py3science"
  },
  "language_info": {
   "codemirror_mode": {
    "name": "ipython",
    "version": 3
   },
   "file_extension": ".py",
   "mimetype": "text/x-python",
   "name": "python",
   "nbconvert_exporter": "python",
   "pygments_lexer": "ipython3",
   "version": "3.7.3"
  }
 },
 "nbformat": 4,
 "nbformat_minor": 4
}
