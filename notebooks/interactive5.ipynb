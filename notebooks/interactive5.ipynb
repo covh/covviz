{
 "cells": [
  {
   "cell_type": "code",
   "execution_count": null,
   "metadata": {
    "scrolled": true
   },
   "outputs": [],
   "source": [
    "import sys\n",
    "import numpy, matplotlib, pandas\n",
    "sys.path.append(\"..\") \n",
    "sys.path.append(\"../src\") \n",
    "import dataFiles, dataMangling, dataPlotting, districtDistances,dataTable\n",
    "\n",
    "# from IPython.core.display import display, HTML\n",
    "# display(HTML(\"<style>.container { width:100% !important; }</style>\"))"
   ]
  },
  {
   "cell_type": "code",
   "execution_count": null,
   "metadata": {
    "scrolled": true
   },
   "outputs": [],
   "source": [
    "dataFiles.downloadData()\n",
    "# ts, bnn, ts_sorted, Bundeslaender_sorted, dates, datacolumns = dataMangling.dataMangled(withSynthetic=True)"
   ]
  },
  {
   "cell_type": "code",
   "execution_count": null,
   "metadata": {
    "scrolled": true
   },
   "outputs": [],
   "source": [
    "ts=pandas.read_csv(dataFiles.TS_NEWEST, encoding='utf-8')\n",
    "ts[ts[\"AGS\"]==\"09377\"][\"10.03.2020\"].values[0]"
   ]
  },
  {
   "cell_type": "code",
   "execution_count": null,
   "metadata": {
    "scrolled": true
   },
   "outputs": [],
   "source": [
    "#ts=pandas.read_csv(dataFiles.TS_NEWEST, encoding='utf-8')\n",
    "#ts=pandas.read_csv(\"../data/GermanyValues_RiskLayer-20200524.csv\", encoding='utf-8')\n",
    "ts=pandas.read_csv(\"../data/GermanyValues_RiskLayer-20200525.csv\", encoding='cp1252') # encoding='utf-8')\n",
    "newcols = [\"12.03.2020\" if x==\"12.03.20203\" else x for x in ts.columns]\n",
    "newcols2 = [\"AGS\" if x=='ï»¿AGS' else x for x in newcols]\n",
    "ts.columns = newcols2\n",
    "#print (ts.columns)\n",
    "\n",
    "strangeLine=ts[ts[\"AGS\"]==\"09377\"]\n",
    "for d in (\"09\",\"10\",\"11\"):\n",
    "    date=\"%s.03.2020\"%d\n",
    "    print (\"%s --> %s\" % (date, strangeLine[date].values))\n",
    "\n",
    "datebad=\"10.03.2020\"\n",
    "i=strangeLine[datebad].index[0]\n",
    "\n",
    "dategood=\"09.03.2020\"\n",
    "# ts.loc[i, datebad]=ts.loc[i, dategood]\n",
    "# ts.loc[i, datebad]=pandas.to_numeric(ts.loc[i, datebad])\n",
    "ts.loc[i, datebad] = float(ts.loc[i, dategood])\n",
    "\n",
    "strangeLine=ts[ts[\"AGS\"]==\"09377\"]\n",
    "for d in (\"09\",\"10\",\"11\"):\n",
    "    date=\"%s.03.2020\"%d\n",
    "    print (\"%s --> %s\" % (date, strangeLine[date].values))\n",
    "    \n",
    "strangeLine=ts[ts[\"AGS\"]==\"09377\"]\n",
    "strangeLine\n",
    "strangeLine.drop([\"AGS\",\"ADMIN\"], axis=1).diff(axis=1)"
   ]
  },
  {
   "cell_type": "code",
   "execution_count": null,
   "metadata": {},
   "outputs": [],
   "source": [
    "strangeLine=ts[ts[\"AGS\"]==\"09377\"]\n",
    "#print(strangeLine.values.tolist()[0])\n",
    "oldvalue=0\n",
    "for a in strangeLine.values.tolist()[0][2:]:\n",
    "    print (a, a-oldvalue, type(a))\n",
    "    # print (a, type(a))\n",
    "    oldvalue=a"
   ]
  },
  {
   "cell_type": "code",
   "execution_count": null,
   "metadata": {},
   "outputs": [],
   "source": [
    "A=[0.0, 0.0, 0.0, 0.0, 0.0, 0.0, 0.0, 1.0, 3.0, 5.0, 10.0, 17.0, 30.0, 40.0, 47.0, 47.0, 77.0, 77.0, 182.0, 182.0, 202.0, 236.0, 259.0, 323.0, 397.0, 398.0, 454.0, 504.0, 579.0, 665.0, 702.0, 762.0, 762.0, 814.0, 873.0, 895.0, 926.0, 926.0, 955.0, 955.0, 956.0, 993.0, 1018.0, 1026.0, 1038.0, 1053.0, 1053.0, 1062.0, 1068.0, 1082.0, 1083.0, 1099.0, 1099.0, 1099.0, 1101.0, 1106.0, 1108.0, 1113.0, 1113.0, 1113.0, 1113.0, 1118.0, 1118.0, 1118.0, 1120.0, 1121.0, 1121.0, 1121.0, 1122.0, 1125.0, 1125.0, 1125.0, 1126.0, 1126.0, 1126.0, 1129.0, 1134.0, 1136.0, 1136.0, 1136.0, 1136.0, 1137.0]\n",
    "print (A[2:])\n",
    "# print(pandas.DataFrame(A[2:]).diff().values)\n",
    "# print(pandas.DataFrame(A).diff().values)\n",
    "print(pandas.DataFrame(A).diff().values.tostring())"
   ]
  },
  {
   "cell_type": "code",
   "execution_count": null,
   "metadata": {},
   "outputs": [],
   "source": [
    "for a in A:\n",
    "    print (a, type(a))"
   ]
  },
  {
   "cell_type": "code",
   "execution_count": null,
   "metadata": {},
   "outputs": [],
   "source": [
    "ts[ts[\"AGS\"]==\"09377\"].apply(int)"
   ]
  },
  {
   "cell_type": "code",
   "execution_count": null,
   "metadata": {},
   "outputs": [],
   "source": [
    "ts.transform(lambda x:int(x))"
   ]
  },
  {
   "cell_type": "code",
   "execution_count": null,
   "metadata": {},
   "outputs": [],
   "source": [
    "print(dataFiles.TS_NEWEST)"
   ]
  },
  {
   "cell_type": "code",
   "execution_count": null,
   "metadata": {},
   "outputs": [],
   "source": []
  },
  {
   "cell_type": "code",
   "execution_count": null,
   "metadata": {},
   "outputs": [],
   "source": []
  }
 ],
 "metadata": {
  "kernelspec": {
   "display_name": "py3science",
   "language": "python",
   "name": "py3science"
  },
  "language_info": {
   "codemirror_mode": {
    "name": "ipython",
    "version": 3
   },
   "file_extension": ".py",
   "mimetype": "text/x-python",
   "name": "python",
   "nbconvert_exporter": "python",
   "pygments_lexer": "ipython3",
   "version": "3.7.3"
  }
 },
 "nbformat": 4,
 "nbformat_minor": 4
}
