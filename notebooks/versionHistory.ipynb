{
 "cells": [
  {
   "cell_type": "markdown",
   "metadata": {},
   "source": [
    "# Some initial ideas for automating the version history\n"
   ]
  },
  {
   "cell_type": "code",
   "execution_count": null,
   "metadata": {},
   "outputs": [],
   "source": [
    "import sys, os\n",
    "import pandas, requests\n",
    "sys.path.append(\"../src\") \n",
    "import dataFiles"
   ]
  },
  {
   "cell_type": "code",
   "execution_count": null,
   "metadata": {},
   "outputs": [],
   "source": [
    "VERSION_URL=\"https://www.googleapis.com/drive/v3/files/{fileId}/revisions\"\n",
    "args={'fileId': dataFiles.RISKLAYER_MASTER_SHEET}\n",
    "url=VERSION_URL.format(**args)\n",
    "print(url)"
   ]
  },
  {
   "cell_type": "code",
   "execution_count": null,
   "metadata": {},
   "outputs": [],
   "source": [
    "print(requests.get(url).text)"
   ]
  },
  {
   "cell_type": "markdown",
   "metadata": {},
   "source": [
    "# Python Quickstart\n",
    "\n",
    "https://developers.google.com/docs/api/quickstart/python\n",
    "\n",
    "# revisions\n",
    "\n",
    "### revisions list\n",
    "https://developers.google.com/drive/api/v3/reference/revisions/list\n",
    "example https://sites.google.com/site/appsscripttutorial/urlfetch-and-oauth/get-the-revision-history-of-a-resource-using-docslist-api\n",
    "\n",
    "### revisions get\n",
    "https://developers.google.com/drive/api/v3/reference/revisions/get\n",
    "\n"
   ]
  },
  {
   "cell_type": "markdown",
   "metadata": {},
   "source": [
    "# not possible?\n",
    "> Revisions for Google Docs, Sheets, and Slides can't be downloaded.\n",
    "\n",
    "https://developers.google.com/drive/api/v3/manage-revisions"
   ]
  },
  {
   "cell_type": "markdown",
   "metadata": {},
   "source": [
    "# video\n",
    "https://developers.google.com/drive/api/v3/change-overview\n",
    "    "
   ]
  },
  {
   "cell_type": "code",
   "execution_count": null,
   "metadata": {},
   "outputs": [],
   "source": [
    "import googlePython\n",
    "tokenfile=os.path.join('..', 'src', googlePython.TOKENFILE)\n",
    "googlePython.quickstart(TOKENFILE=tokenfile)"
   ]
  },
  {
   "cell_type": "code",
   "execution_count": null,
   "metadata": {},
   "outputs": [],
   "source": [
    "# print(os.getcwd())\n",
    "service=googlePython.googleService(TOKENFILE=tokenfile)"
   ]
  },
  {
   "cell_type": "code",
   "execution_count": null,
   "metadata": {},
   "outputs": [],
   "source": [
    "#service.documents().get(documentId=dataFiles.RISKLAYER_MASTER_SHEET).execute()\n",
    "# service.documents().get(documentId=dataFiles.RISKLAYER_MASTER_SHEET).execute()"
   ]
  },
  {
   "cell_type": "markdown",
   "metadata": {},
   "source": [
    "# when done with someone else's documentId, this is the result:\n",
    "\n",
    "https://developers.google.com/drive/api/v3/reference/revisions/list?apix=true&apix_params=%7B%22fileId%22%3A%221wg-s4_Lz2Stil6spQEYFdZaBEp8nWW26gVyfHqvcl8s%22%7D#try-it\n",
    "```\n",
    "{\n",
    " \"kind\": \"drive#revisionList\",\n",
    " \"revisions\": [\n",
    "  {\n",
    "   \"kind\": \"drive#revision\",\n",
    "   \"id\": \"388332\",\n",
    "   \"mimeType\": \"application/vnd.google-apps.spreadsheet\",\n",
    "   \"modifiedTime\": \"2020-07-01T15:04:13.346Z\"\n",
    "  }\n",
    " ]\n",
    "}\n",
    "```"
   ]
  },
  {
   "cell_type": "markdown",
   "metadata": {},
   "source": [
    "# when done with my own sheet, this is the result\n",
    "https://developers.google.com/drive/api/v3/reference/revisions/list?apix=true&apix_params=%7B%22fileId%22%3A%221KbNjq2OPsSRzmyDDidbXD4pcPnAPfY0SsS693duadLw%22%7D#try-it\n",
    "\n",
    "```\n",
    "{\n",
    " \"kind\": \"drive#revisionList\",\n",
    " \"nextPageToken\": \"CjYKLDFLYk5qcTJPUHNTUnpteUREaWRiWEQ0cGNQbkFQZlkwU3NTNjkzZHVhZEx3EgQyODA4GAI=\",\n",
    " \"revisions\": [\n",
    "  {\n",
    "   \"kind\": \"drive#revision\",\n",
    "   \"id\": \"1821\",\n",
    "   \"mimeType\": \"application/vnd.google-apps.spreadsheet\",\n",
    "   \"modifiedTime\": \"2020-04-18T07:49:22.157Z\"\n",
    "  },\n",
    "  {\n",
    "   \"kind\": \"drive#revision\",\n",
    "   \"id\": \"1824\",\n",
    "   \"mimeType\": \"application/vnd.google-apps.spreadsheet\",\n",
    "   \"modifiedTime\": \"2020-04-18T08:49:22.094Z\"\n",
    "  },\n",
    "  ...\n",
    "  {\n",
    "   \"kind\": \"drive#revision\",\n",
    "   \"id\": \"2808\",\n",
    "   \"mimeType\": \"application/vnd.google-apps.spreadsheet\",\n",
    "   \"modifiedTime\": \"2020-04-26T14:49:20.923Z\"\n",
    "  }\n",
    " ]\n",
    "}\n",
    "```"
   ]
  },
  {
   "cell_type": "code",
   "execution_count": null,
   "metadata": {},
   "outputs": [],
   "source": [
    "#myOwnSheet\n",
    "sheet=\"1KbNjq2OPsSRzmyDDidbXD4pcPnAPfY0SsS693duadLw\"\n",
    "service=googlePython.googleService(TOKENFILE=tokenfile, servicename='drive', version='v3')\n",
    "# versions = service.revisions().list(fileId = sheet, fields = '*').execute()"
   ]
  },
  {
   "cell_type": "code",
   "execution_count": null,
   "metadata": {},
   "outputs": [],
   "source": [
    "service._http"
   ]
  },
  {
   "cell_type": "code",
   "execution_count": null,
   "metadata": {},
   "outputs": [],
   "source": [
    "\n"
   ]
  },
  {
   "cell_type": "code",
   "execution_count": null,
   "metadata": {},
   "outputs": [],
   "source": [
    "import pickle\n",
    "from googleapiclient import discovery\n",
    "from httplib2 import Http"
   ]
  },
  {
   "cell_type": "code",
   "execution_count": null,
   "metadata": {},
   "outputs": [],
   "source": [
    "google_storage=os.path.join('..', 'src', googlePython.GOOGLE_STORAGE)\n",
    "print(google_storage)\n",
    "creds=googlePython.googleAccess(GOOGLE_STORAGE=google_storage)\n"
   ]
  },
  {
   "cell_type": "code",
   "execution_count": null,
   "metadata": {},
   "outputs": [],
   "source": [
    "DRIVE = discovery.build('drive', 'v3', http=creds.authorize(Http()))\n",
    "files = DRIVE.files().list().execute().get('files', [])\n",
    "for f in files:\n",
    "    print(f['id'], f['kind'], f['name'], f['mimeType'])"
   ]
  },
  {
   "cell_type": "code",
   "execution_count": null,
   "metadata": {},
   "outputs": [],
   "source": [
    "sheet=\"1KbNjq2OPsSRzmyDDidbXD4pcPnAPfY0SsS693duadLw\"\n",
    "DRIVE.revisions().list(fileId = sheet, fields = '*').execute()\n"
   ]
  },
  {
   "cell_type": "code",
   "execution_count": null,
   "metadata": {},
   "outputs": [],
   "source": [
    "revList=DRIVE.revisions().list(fileId = sheet, fields = \"*\").execute()"
   ]
  },
  {
   "cell_type": "code",
   "execution_count": null,
   "metadata": {},
   "outputs": [],
   "source": [
    "for rev in revList['revisions']:\n",
    "    url=\"https://docs.google.com/spreadsheets/export?id=%s&revision=%s&exportFormat=csv\" % (sheet, rev['id'])\n",
    "    print(\"{id} {kind} {modifiedTime}\".format(**rev), url)"
   ]
  },
  {
   "cell_type": "code",
   "execution_count": null,
   "metadata": {},
   "outputs": [],
   "source": [
    "sheet=\"1rn_nPJodxAwahIzqfRtEr9HHoqjvmh_7bj6-LUXDRSY\"\n",
    "revList=DRIVE.revisions().list(fileId = sheet, fields = \"*\").execute()\n",
    "for rev in revList['revisions']:\n",
    "    url=\"https://docs.google.com/spreadsheets/export?id=%s&revision=%s&exportFormat=ods\" % (sheet, rev['id'])\n",
    "    print(\"{id} {kind} {modifiedTime}\".format(**rev), url)"
   ]
  },
  {
   "cell_type": "code",
   "execution_count": null,
   "metadata": {},
   "outputs": [],
   "source": [
    "# export spreadsheet\n",
    "# but needs sheet ID instead of sheetname\n",
    "# https://gist.github.com/Spencer-Easton/78f9867a691e549c9c70"
   ]
  },
  {
   "cell_type": "code",
   "execution_count": null,
   "metadata": {},
   "outputs": [],
   "source": [
    "DRIVE = discovery.build('drive', 'v3', http=creds.authorize(Http()))\n",
    "sheet=\"1rn_nPJodxAwahIzqfRtEr9HHoqjvmh_7bj6-LUXDRSY\"\n",
    "revList=DRIVE.revisions().list(fileId = sheet, fields = \"*\").execute()"
   ]
  },
  {
   "cell_type": "code",
   "execution_count": null,
   "metadata": {},
   "outputs": [],
   "source": [
    "for rev in revList['revisions']:\n",
    "        url=\"https://www.googleapis.com/drive/v3/files/%s/revisions/%s\" % (sheet, rev['id'])\n",
    "        print(\"{id} {kind} {modifiedTime}\".format(**rev), url)"
   ]
  },
  {
   "cell_type": "code",
   "execution_count": null,
   "metadata": {},
   "outputs": [],
   "source": []
  }
 ],
 "metadata": {
  "kernelspec": {
   "display_name": "py3science",
   "language": "python",
   "name": "py3science"
  },
  "language_info": {
   "codemirror_mode": {
    "name": "ipython",
    "version": 3
   },
   "file_extension": ".py",
   "mimetype": "text/x-python",
   "name": "python",
   "nbconvert_exporter": "python",
   "pygments_lexer": "ipython3",
   "version": "3.7.3"
  }
 },
 "nbformat": 4,
 "nbformat_minor": 4
}
